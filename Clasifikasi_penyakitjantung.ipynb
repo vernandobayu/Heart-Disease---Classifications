{
  "cells": [
    {
      "cell_type": "markdown",
      "source": [
        "# Clasifikasi penyakit Jantung"
      ],
      "metadata": {
        "id": "8jkoizHwOgZT"
      }
    },
    {
      "cell_type": "code",
      "execution_count": 3,
      "metadata": {
        "id": "KI-qDHVaRFqF"
      },
      "outputs": [],
      "source": [
        "import pandas as pd\n",
        "import matplotlib.pyplot as plt\n",
        "import seaborn as sns"
      ]
    },
    {
      "cell_type": "code",
      "execution_count": 4,
      "metadata": {
        "id": "pqKxIhmqRr7l"
      },
      "outputs": [],
      "source": [
        "df = pd.read_csv('heart.csv')"
      ]
    },
    {
      "cell_type": "markdown",
      "source": [
        "1. age\n",
        "2. sex\n",
        "3. chest pain type (4 values)\n",
        "4. resting blood pressure\n",
        "5. serum cholestoral in mg/dl\n",
        "6. fasting blood sugar > 120 mg/dl\n",
        "7. resting electrocardiographic results (values 0,1,2)\n",
        "8. maximum heart rate achieved\n",
        "9. exercise induced angina\n",
        "10. oldpeak = ST depression induced by exercise relative to rest\n",
        "11. the slope of the peak exercise ST segment\n",
        "12. umber of major vessels (0-3) colored by flourosopy\n",
        "13. thal: 0 = normal; 1 = fixed defect; 2 = reversable defect"
      ],
      "metadata": {
        "id": "In1gBCeiWe2-"
      }
    },
    {
      "cell_type": "code",
      "execution_count": 5,
      "metadata": {
        "colab": {
          "base_uri": "https://localhost:8080/",
          "height": 206
        },
        "id": "lcV_5Tq2R8DQ",
        "outputId": "789bc2d2-4753-452b-b4e3-30ae444d9e6a"
      },
      "outputs": [
        {
          "output_type": "execute_result",
          "data": {
            "text/plain": [
              "   age  sex  cp  trestbps  chol  fbs  restecg  thalach  exang  oldpeak  slope  \\\n",
              "0   52    1   0       125   212    0        1      168      0      1.0      2   \n",
              "1   53    1   0       140   203    1        0      155      1      3.1      0   \n",
              "2   70    1   0       145   174    0        1      125      1      2.6      0   \n",
              "3   61    1   0       148   203    0        1      161      0      0.0      2   \n",
              "4   62    0   0       138   294    1        1      106      0      1.9      1   \n",
              "\n",
              "   ca  thal  target  \n",
              "0   2     3       0  \n",
              "1   0     3       0  \n",
              "2   0     3       0  \n",
              "3   1     3       0  \n",
              "4   3     2       0  "
            ],
            "text/html": [
              "\n",
              "  <div id=\"df-2d4e76c5-7965-40ee-bcda-4dc9701b0249\">\n",
              "    <div class=\"colab-df-container\">\n",
              "      <div>\n",
              "<style scoped>\n",
              "    .dataframe tbody tr th:only-of-type {\n",
              "        vertical-align: middle;\n",
              "    }\n",
              "\n",
              "    .dataframe tbody tr th {\n",
              "        vertical-align: top;\n",
              "    }\n",
              "\n",
              "    .dataframe thead th {\n",
              "        text-align: right;\n",
              "    }\n",
              "</style>\n",
              "<table border=\"1\" class=\"dataframe\">\n",
              "  <thead>\n",
              "    <tr style=\"text-align: right;\">\n",
              "      <th></th>\n",
              "      <th>age</th>\n",
              "      <th>sex</th>\n",
              "      <th>cp</th>\n",
              "      <th>trestbps</th>\n",
              "      <th>chol</th>\n",
              "      <th>fbs</th>\n",
              "      <th>restecg</th>\n",
              "      <th>thalach</th>\n",
              "      <th>exang</th>\n",
              "      <th>oldpeak</th>\n",
              "      <th>slope</th>\n",
              "      <th>ca</th>\n",
              "      <th>thal</th>\n",
              "      <th>target</th>\n",
              "    </tr>\n",
              "  </thead>\n",
              "  <tbody>\n",
              "    <tr>\n",
              "      <th>0</th>\n",
              "      <td>52</td>\n",
              "      <td>1</td>\n",
              "      <td>0</td>\n",
              "      <td>125</td>\n",
              "      <td>212</td>\n",
              "      <td>0</td>\n",
              "      <td>1</td>\n",
              "      <td>168</td>\n",
              "      <td>0</td>\n",
              "      <td>1.0</td>\n",
              "      <td>2</td>\n",
              "      <td>2</td>\n",
              "      <td>3</td>\n",
              "      <td>0</td>\n",
              "    </tr>\n",
              "    <tr>\n",
              "      <th>1</th>\n",
              "      <td>53</td>\n",
              "      <td>1</td>\n",
              "      <td>0</td>\n",
              "      <td>140</td>\n",
              "      <td>203</td>\n",
              "      <td>1</td>\n",
              "      <td>0</td>\n",
              "      <td>155</td>\n",
              "      <td>1</td>\n",
              "      <td>3.1</td>\n",
              "      <td>0</td>\n",
              "      <td>0</td>\n",
              "      <td>3</td>\n",
              "      <td>0</td>\n",
              "    </tr>\n",
              "    <tr>\n",
              "      <th>2</th>\n",
              "      <td>70</td>\n",
              "      <td>1</td>\n",
              "      <td>0</td>\n",
              "      <td>145</td>\n",
              "      <td>174</td>\n",
              "      <td>0</td>\n",
              "      <td>1</td>\n",
              "      <td>125</td>\n",
              "      <td>1</td>\n",
              "      <td>2.6</td>\n",
              "      <td>0</td>\n",
              "      <td>0</td>\n",
              "      <td>3</td>\n",
              "      <td>0</td>\n",
              "    </tr>\n",
              "    <tr>\n",
              "      <th>3</th>\n",
              "      <td>61</td>\n",
              "      <td>1</td>\n",
              "      <td>0</td>\n",
              "      <td>148</td>\n",
              "      <td>203</td>\n",
              "      <td>0</td>\n",
              "      <td>1</td>\n",
              "      <td>161</td>\n",
              "      <td>0</td>\n",
              "      <td>0.0</td>\n",
              "      <td>2</td>\n",
              "      <td>1</td>\n",
              "      <td>3</td>\n",
              "      <td>0</td>\n",
              "    </tr>\n",
              "    <tr>\n",
              "      <th>4</th>\n",
              "      <td>62</td>\n",
              "      <td>0</td>\n",
              "      <td>0</td>\n",
              "      <td>138</td>\n",
              "      <td>294</td>\n",
              "      <td>1</td>\n",
              "      <td>1</td>\n",
              "      <td>106</td>\n",
              "      <td>0</td>\n",
              "      <td>1.9</td>\n",
              "      <td>1</td>\n",
              "      <td>3</td>\n",
              "      <td>2</td>\n",
              "      <td>0</td>\n",
              "    </tr>\n",
              "  </tbody>\n",
              "</table>\n",
              "</div>\n",
              "      <button class=\"colab-df-convert\" onclick=\"convertToInteractive('df-2d4e76c5-7965-40ee-bcda-4dc9701b0249')\"\n",
              "              title=\"Convert this dataframe to an interactive table.\"\n",
              "              style=\"display:none;\">\n",
              "        \n",
              "  <svg xmlns=\"http://www.w3.org/2000/svg\" height=\"24px\"viewBox=\"0 0 24 24\"\n",
              "       width=\"24px\">\n",
              "    <path d=\"M0 0h24v24H0V0z\" fill=\"none\"/>\n",
              "    <path d=\"M18.56 5.44l.94 2.06.94-2.06 2.06-.94-2.06-.94-.94-2.06-.94 2.06-2.06.94zm-11 1L8.5 8.5l.94-2.06 2.06-.94-2.06-.94L8.5 2.5l-.94 2.06-2.06.94zm10 10l.94 2.06.94-2.06 2.06-.94-2.06-.94-.94-2.06-.94 2.06-2.06.94z\"/><path d=\"M17.41 7.96l-1.37-1.37c-.4-.4-.92-.59-1.43-.59-.52 0-1.04.2-1.43.59L10.3 9.45l-7.72 7.72c-.78.78-.78 2.05 0 2.83L4 21.41c.39.39.9.59 1.41.59.51 0 1.02-.2 1.41-.59l7.78-7.78 2.81-2.81c.8-.78.8-2.07 0-2.86zM5.41 20L4 18.59l7.72-7.72 1.47 1.35L5.41 20z\"/>\n",
              "  </svg>\n",
              "      </button>\n",
              "      \n",
              "  <style>\n",
              "    .colab-df-container {\n",
              "      display:flex;\n",
              "      flex-wrap:wrap;\n",
              "      gap: 12px;\n",
              "    }\n",
              "\n",
              "    .colab-df-convert {\n",
              "      background-color: #E8F0FE;\n",
              "      border: none;\n",
              "      border-radius: 50%;\n",
              "      cursor: pointer;\n",
              "      display: none;\n",
              "      fill: #1967D2;\n",
              "      height: 32px;\n",
              "      padding: 0 0 0 0;\n",
              "      width: 32px;\n",
              "    }\n",
              "\n",
              "    .colab-df-convert:hover {\n",
              "      background-color: #E2EBFA;\n",
              "      box-shadow: 0px 1px 2px rgba(60, 64, 67, 0.3), 0px 1px 3px 1px rgba(60, 64, 67, 0.15);\n",
              "      fill: #174EA6;\n",
              "    }\n",
              "\n",
              "    [theme=dark] .colab-df-convert {\n",
              "      background-color: #3B4455;\n",
              "      fill: #D2E3FC;\n",
              "    }\n",
              "\n",
              "    [theme=dark] .colab-df-convert:hover {\n",
              "      background-color: #434B5C;\n",
              "      box-shadow: 0px 1px 3px 1px rgba(0, 0, 0, 0.15);\n",
              "      filter: drop-shadow(0px 1px 2px rgba(0, 0, 0, 0.3));\n",
              "      fill: #FFFFFF;\n",
              "    }\n",
              "  </style>\n",
              "\n",
              "      <script>\n",
              "        const buttonEl =\n",
              "          document.querySelector('#df-2d4e76c5-7965-40ee-bcda-4dc9701b0249 button.colab-df-convert');\n",
              "        buttonEl.style.display =\n",
              "          google.colab.kernel.accessAllowed ? 'block' : 'none';\n",
              "\n",
              "        async function convertToInteractive(key) {\n",
              "          const element = document.querySelector('#df-2d4e76c5-7965-40ee-bcda-4dc9701b0249');\n",
              "          const dataTable =\n",
              "            await google.colab.kernel.invokeFunction('convertToInteractive',\n",
              "                                                     [key], {});\n",
              "          if (!dataTable) return;\n",
              "\n",
              "          const docLinkHtml = 'Like what you see? Visit the ' +\n",
              "            '<a target=\"_blank\" href=https://colab.research.google.com/notebooks/data_table.ipynb>data table notebook</a>'\n",
              "            + ' to learn more about interactive tables.';\n",
              "          element.innerHTML = '';\n",
              "          dataTable['output_type'] = 'display_data';\n",
              "          await google.colab.output.renderOutput(dataTable, element);\n",
              "          const docLink = document.createElement('div');\n",
              "          docLink.innerHTML = docLinkHtml;\n",
              "          element.appendChild(docLink);\n",
              "        }\n",
              "      </script>\n",
              "    </div>\n",
              "  </div>\n",
              "  "
            ]
          },
          "metadata": {},
          "execution_count": 5
        }
      ],
      "source": [
        "df.head()"
      ]
    },
    {
      "cell_type": "markdown",
      "metadata": {
        "id": "wHBdJ-b1SGB-"
      },
      "source": [
        "### 1. Define business problems dan goals"
      ]
    },
    {
      "cell_type": "markdown",
      "metadata": {
        "id": "eQVP9e-uUqt4"
      },
      "source": [
        "Pada dataset ini memberkan informasi mengenai pasien yang memiliki penyakit jantung, sehingga berikut beberapa paparan atau poinnya:\n",
        "\n",
        "Business Problems:\n",
        "1.   Mengetahui relasi antara beberapa variabel dengan perkembangan penyakit jantung\n",
        "2.   Mengidentifikasi pasien yang berisiko tinggi terkena penyakit jantung\n",
        "\n",
        "\n",
        "Goals:\n",
        "1.   Membuat model untuk mengklasifikasi pasien terkena serangan jantung\n",
        "\n",
        "\n",
        "\n"
      ]
    },
    {
      "cell_type": "markdown",
      "metadata": {
        "id": "droiRG50SMlG"
      },
      "source": [
        "### 2.Define the workflow you would use if you’re a data scientist working in this case "
      ]
    },
    {
      "cell_type": "markdown",
      "metadata": {
        "id": "UoZ2j7n-YBY0"
      },
      "source": [
        "\n",
        "*   Langkah pertama yaitu melakukan data preparation, karena langkah inilah yang gunanya untuk menyiapkan data sebelum dilakukannya analisis\n",
        "*   Kedua adalah EDA, pada tahap ini dilakukan eksplorasi data yang gunanya untuk mengetahui isi variabel, relasi antar variabel dan persebaran datanya. Dan juga melakukan handling terhadap missing values ataupun outliers\n",
        "*   ketiga, Melakukan penambahan fitur atau feature engineering, hal ini dilakukan untuk membuat variabel baru guna menambah akurasi dari pemodelan yang akan dibuat\n",
        "*   Keempat, Membuat pemodelan atau model machine learning. Setelah datanya dilakukan EDA maka data tersebut sudah siap untuk dilakukan pemodelan\n",
        "*   Kelima, melakukan evaluasi dari model yang sudah dibuat\n",
        "\n",
        "\n",
        "\n"
      ]
    },
    {
      "cell_type": "markdown",
      "metadata": {
        "id": "Cs_WRx_5SVhv"
      },
      "source": [
        "### 3.Check the quality of the dataset (missing value, duplicates, outliers, data imbalance)"
      ]
    },
    {
      "cell_type": "code",
      "execution_count": 6,
      "metadata": {
        "colab": {
          "base_uri": "https://localhost:8080/"
        },
        "id": "0dwnH60UbHpf",
        "outputId": "aac203e1-3c82-420f-ea3f-b3974ca0d4e9"
      },
      "outputs": [
        {
          "output_type": "execute_result",
          "data": {
            "text/plain": [
              "(1025, 14)"
            ]
          },
          "metadata": {},
          "execution_count": 6
        }
      ],
      "source": [
        "df.shape"
      ]
    },
    {
      "cell_type": "code",
      "execution_count": 7,
      "metadata": {
        "colab": {
          "base_uri": "https://localhost:8080/"
        },
        "id": "xTAiaAg8Zc86",
        "outputId": "61088518-e8a1-428a-f6df-413726b00056"
      },
      "outputs": [
        {
          "output_type": "execute_result",
          "data": {
            "text/plain": [
              "age         0\n",
              "sex         0\n",
              "cp          0\n",
              "trestbps    0\n",
              "chol        0\n",
              "fbs         0\n",
              "restecg     0\n",
              "thalach     0\n",
              "exang       0\n",
              "oldpeak     0\n",
              "slope       0\n",
              "ca          0\n",
              "thal        0\n",
              "target      0\n",
              "dtype: int64"
            ]
          },
          "metadata": {},
          "execution_count": 7
        }
      ],
      "source": [
        "#mengecek missing values\n",
        "df.isnull().sum()"
      ]
    },
    {
      "cell_type": "markdown",
      "metadata": {
        "id": "287NWngVZhgP"
      },
      "source": [
        "Tidak terdapat sama sekali missing value"
      ]
    },
    {
      "cell_type": "code",
      "execution_count": 8,
      "metadata": {
        "colab": {
          "base_uri": "https://localhost:8080/"
        },
        "id": "DxEuUjjoZhN5",
        "outputId": "50c87cb3-f451-4e4f-927b-0cf716b0888f"
      },
      "outputs": [
        {
          "output_type": "execute_result",
          "data": {
            "text/plain": [
              "723"
            ]
          },
          "metadata": {},
          "execution_count": 8
        }
      ],
      "source": [
        "#mengecek data duplikat\n",
        "df.duplicated().sum()"
      ]
    },
    {
      "cell_type": "markdown",
      "metadata": {
        "id": "KG6y9HwAi_hJ"
      },
      "source": [
        "Terdapat 723 data yang duplikat (lebih dari 50%)"
      ]
    },
    {
      "cell_type": "code",
      "execution_count": 9,
      "metadata": {
        "id": "VWTAjnAPfdyL"
      },
      "outputs": [],
      "source": [
        "# Dropping the duplicated rows\n",
        "df.drop_duplicates(inplace=True)"
      ]
    },
    {
      "cell_type": "code",
      "execution_count": 10,
      "metadata": {
        "colab": {
          "base_uri": "https://localhost:8080/",
          "height": 607
        },
        "id": "gQi8v_XD9iyv",
        "outputId": "acb69c9a-eb6f-4ee9-f5cc-0237a112aca1"
      },
      "outputs": [
        {
          "output_type": "display_data",
          "data": {
            "text/plain": [
              "<Figure size 1000x600 with 12 Axes>"
            ],
            "image/png": "[encoded data removed]"
          },
          "metadata": {}
        }
      ],
      "source": [
        "#outliers\n",
        "fig, axes = plt.subplots(nrows=4, ncols=3, figsize=(10, 6))\n",
        "for ax, column in zip(axes.ravel(), ['age', 'cp', 'trestbps', 'chol','restecg','thalach',\n",
        "                                    'oldpeak','slope','ca','thal']):\n",
        "    ax.boxplot(df[column], vert=False)\n",
        "    ax.set_title(column)\n",
        "plt.tight_layout()\n",
        "plt.show()"
      ]
    },
    {
      "cell_type": "markdown",
      "metadata": {
        "id": "RM_GyyPjrFS4"
      },
      "source": [
        "Terdapat ouliers yang cukup terlihat yaitu trestbps, chol, oldpeak"
      ]
    },
    {
      "cell_type": "code",
      "execution_count": 11,
      "metadata": {
        "colab": {
          "base_uri": "https://localhost:8080/"
        },
        "id": "Dsl_jOcTgKmX",
        "outputId": "6dbd1c36-5f1a-4f62-b61a-ec3a63f3abcb"
      },
      "outputs": [
        {
          "output_type": "stream",
          "name": "stdout",
          "text": [
            "age : int64\n",
            "Q1 48.0\n",
            "Q3 61.0\n",
            "IQR 13.0\n",
            "\n",
            "\n",
            "sex : int64\n",
            "Q1 0.0\n",
            "Q3 1.0\n",
            "IQR 1.0\n",
            "\n",
            "\n",
            "cp : int64\n",
            "Q1 0.0\n",
            "Q3 2.0\n",
            "IQR 2.0\n",
            "\n",
            "\n",
            "trestbps : int64\n",
            "Q1 120.0\n",
            "Q3 140.0\n",
            "IQR 20.0\n",
            "High outlier is found> 170.0\n",
            "High outlier Index : [29, 47, 87, 137, 151, 175, 343, 396, 528]\n",
            "\n",
            "\n",
            "chol : int64\n",
            "Q1 211.0\n",
            "Q3 274.75\n",
            "IQR 63.75\n",
            "High outlier is found> 370.375\n",
            "High outlier Index : [123, 158, 179, 255, 450]\n",
            "\n",
            "\n",
            "fbs : int64\n",
            "Q1 0.0\n",
            "Q3 0.0\n",
            "IQR 0.0\n",
            "High outlier is found> 0.0\n",
            "High outlier Index : [1, 4, 11, 14, 19, 27, 28, 47, 49, 50, 63, 66, 72, 74, 76, 89, 94, 101, 114, 123, 135, 148, 154, 171, 175, 185, 193, 210, 228, 240, 244, 269, 292, 343, 348, 356, 363, 389, 396, 555, 570, 580, 629, 708, 719]\n",
            "\n",
            "\n",
            "restecg : int64\n",
            "Q1 0.0\n",
            "Q3 1.0\n",
            "IQR 1.0\n",
            "\n",
            "\n",
            "thalach : int64\n",
            "Q1 133.25\n",
            "Q3 166.0\n",
            "IQR 32.75\n",
            "Low outlier is found< 84.125\n",
            "Low outlier Index : [267]\n",
            "\n",
            "\n",
            "exang : int64\n",
            "Q1 0.0\n",
            "Q3 1.0\n",
            "IQR 1.0\n",
            "\n",
            "\n",
            "oldpeak : float64\n",
            "Q1 0.0\n",
            "Q3 1.6\n",
            "IQR 1.6\n",
            "High outlier is found> 4.0\n",
            "High outlier Index : [6, 13, 54, 69, 528]\n",
            "\n",
            "\n",
            "slope : int64\n",
            "Q1 1.0\n",
            "Q3 2.0\n",
            "IQR 1.0\n",
            "\n",
            "\n",
            "ca : int64\n",
            "Q1 0.0\n",
            "Q3 1.0\n",
            "IQR 1.0\n",
            "High outlier is found> 2.5\n",
            "High outlier Index : [4, 6, 13, 52, 53, 69, 81, 128, 154, 160, 185, 194, 322, 323, 328, 348, 361, 363, 431, 450, 460, 479, 521, 719]\n",
            "\n",
            "\n",
            "thal : int64\n",
            "Q1 2.0\n",
            "Q3 3.0\n",
            "IQR 1.0\n",
            "Low outlier is found< 0.5\n",
            "Low outlier Index : [14, 319]\n",
            "\n",
            "\n",
            "target : int64\n",
            "Q1 0.0\n",
            "Q3 1.0\n",
            "IQR 1.0\n",
            "\n",
            "\n"
          ]
        }
      ],
      "source": [
        "for i in (df.columns):\n",
        "  if(df[i].dtypes in['int64','float64']):\n",
        "    print(i,':',df[i].dtypes)\n",
        "\n",
        "    Q1 = df[i].quantile(0.25)\n",
        "    print('Q1',Q1)\n",
        "\n",
        "    Q3 = df[i].quantile(0.75)\n",
        "    print('Q3',Q3)\n",
        "\n",
        "    IQR = Q3-Q1\n",
        "    print('IQR',IQR)\n",
        "\n",
        "    nilai_min = df[i].min()\n",
        "    nilai_max = df[i].max()\n",
        "\n",
        "    min_IQR = Q1 - 1.5 * IQR\n",
        "    max_IQR = Q3 + 1.5 * IQR\n",
        "\n",
        "    #Mencari Outlier\n",
        "    if(nilai_min < min_IQR):\n",
        "      print('Low outlier is found<', min_IQR)\n",
        "      print('Low outlier Index :', list(df[df[i] < min_IQR].index))\n",
        "\n",
        "    if(nilai_max > max_IQR):\n",
        "      print('High outlier is found>', max_IQR)\n",
        "      print('High outlier Index :', list(df[df[i] > max_IQR].index))\n",
        "\n",
        "    print('\\n')"
      ]
    },
    {
      "cell_type": "markdown",
      "metadata": {
        "id": "INn3G4fnx1fR"
      },
      "source": [
        "Outlier Handle dengan mengambil ambang batas 0.75 (percentile 0.75) hal ini dikarenakan jumlah row yang sedikit"
      ]
    },
    {
      "cell_type": "code",
      "execution_count": 12,
      "metadata": {
        "id": "VfTFv8mPskwn"
      },
      "outputs": [],
      "source": [
        "#trestbps\n",
        "Q1_trestbps  = df['trestbps'].quantile(0.25)\n",
        "Q3_trestbps  = df['trestbps'].quantile(0.75)\n",
        "IQR_trestbps  = Q3_trestbps  - Q1_trestbps "
      ]
    },
    {
      "cell_type": "code",
      "execution_count": 13,
      "metadata": {
        "id": "gpEZoayJs9E4"
      },
      "outputs": [],
      "source": [
        "outliers_trestbps = (df['trestbps'] < (Q1_trestbps - 1.5 * IQR_trestbps)) | (df['trestbps'] > (Q3_trestbps + 1.5 * IQR_trestbps))\n"
      ]
    },
    {
      "cell_type": "code",
      "execution_count": 14,
      "metadata": {
        "id": "yNS08vFyvp5n"
      },
      "outputs": [],
      "source": [
        " df = df.loc[~outliers_trestbps]"
      ]
    },
    {
      "cell_type": "code",
      "execution_count": 15,
      "metadata": {
        "id": "enL78Gdfx6Tz"
      },
      "outputs": [],
      "source": [
        "#chol\n",
        "Q1_chol  = df['chol'].quantile(0.25)\n",
        "Q3_chol  = df['chol'].quantile(0.75)\n",
        "IQR_chol  = Q3_chol  - Q1_chol"
      ]
    },
    {
      "cell_type": "code",
      "execution_count": 16,
      "metadata": {
        "id": "40S2j8Tjx6T0"
      },
      "outputs": [],
      "source": [
        "outliers_chol = (df['chol'] < (Q1_chol - 1.5 * IQR_chol)) | (df['chol'] > (Q3_chol + 1.5 * IQR_chol))\n"
      ]
    },
    {
      "cell_type": "code",
      "execution_count": 17,
      "metadata": {
        "id": "38sOD8iyx6T1"
      },
      "outputs": [],
      "source": [
        " df = df.loc[~outliers_chol]"
      ]
    },
    {
      "cell_type": "code",
      "execution_count": 18,
      "metadata": {
        "id": "kptWkbuix72M"
      },
      "outputs": [],
      "source": [
        "#oldpeak\n",
        "Q1_oldpeak  = df['oldpeak'].quantile(0.25)\n",
        "Q3_oldpeak  = df['oldpeak'].quantile(0.75)\n",
        "IQR_oldpeak  = Q3_oldpeak  - Q1_oldpeak "
      ]
    },
    {
      "cell_type": "code",
      "execution_count": 19,
      "metadata": {
        "id": "1L1t18QBx72N"
      },
      "outputs": [],
      "source": [
        "outliers_oldpeak = (df['oldpeak'] < (Q1_oldpeak - 1.5 * IQR_oldpeak)) | (df['oldpeak'] > (Q3_oldpeak + 1.5 * IQR_oldpeak))\n"
      ]
    },
    {
      "cell_type": "code",
      "execution_count": 20,
      "metadata": {
        "id": "KbcLcJI8x72O"
      },
      "outputs": [],
      "source": [
        " df = df.loc[~outliers_oldpeak]"
      ]
    },
    {
      "cell_type": "code",
      "execution_count": 21,
      "metadata": {
        "colab": {
          "base_uri": "https://localhost:8080/",
          "height": 424
        },
        "id": "oW8UrbSPytH_",
        "outputId": "9a41c360-231d-40ea-c501-7b83ca71ec79"
      },
      "outputs": [
        {
          "output_type": "execute_result",
          "data": {
            "text/plain": [
              "     age  sex  cp  trestbps  chol  fbs  restecg  thalach  exang  oldpeak  \\\n",
              "0     52    1   0       125   212    0        1      168      0      1.0   \n",
              "1     53    1   0       140   203    1        0      155      1      3.1   \n",
              "2     70    1   0       145   174    0        1      125      1      2.6   \n",
              "3     61    1   0       148   203    0        1      161      0      0.0   \n",
              "4     62    0   0       138   294    1        1      106      0      1.9   \n",
              "..   ...  ...  ..       ...   ...  ...      ...      ...    ...      ...   \n",
              "723   68    0   2       120   211    0        0      115      0      1.5   \n",
              "733   44    0   2       108   141    0        1      175      0      0.6   \n",
              "739   52    1   0       128   255    0        1      161      1      0.0   \n",
              "843   59    1   3       160   273    0        0      125      0      0.0   \n",
              "878   54    1   0       120   188    0        1      113      0      1.4   \n",
              "\n",
              "     slope  ca  thal  target  \n",
              "0        2   2     3       0  \n",
              "1        0   0     3       0  \n",
              "2        0   0     3       0  \n",
              "3        2   1     3       0  \n",
              "4        1   3     2       0  \n",
              "..     ...  ..   ...     ...  \n",
              "723      1   0     2       1  \n",
              "733      1   0     2       1  \n",
              "739      2   1     3       0  \n",
              "843      2   0     2       0  \n",
              "878      1   1     3       0  \n",
              "\n",
              "[284 rows x 14 columns]"
            ],
            "text/html": [
              "\n",
              "  <div id=\"df-2d84bd36-7447-4e6c-ad9f-fa06f04c7924\">\n",
              "    <div class=\"colab-df-container\">\n",
              "      <div>\n",
              "<style scoped>\n",
              "    .dataframe tbody tr th:only-of-type {\n",
              "        vertical-align: middle;\n",
              "    }\n",
              "\n",
              "    .dataframe tbody tr th {\n",
              "        vertical-align: top;\n",
              "    }\n",
              "\n",
              "    .dataframe thead th {\n",
              "        text-align: right;\n",
              "    }\n",
              "</style>\n",
              "<table border=\"1\" class=\"dataframe\">\n",
              "  <thead>\n",
              "    <tr style=\"text-align: right;\">\n",
              "      <th></th>\n",
              "      <th>age</th>\n",
              "      <th>sex</th>\n",
              "      <th>cp</th>\n",
              "      <th>trestbps</th>\n",
              "      <th>chol</th>\n",
              "      <th>fbs</th>\n",
              "      <th>restecg</th>\n",
              "      <th>thalach</th>\n",
              "      <th>exang</th>\n",
              "      <th>oldpeak</th>\n",
              "      <th>slope</th>\n",
              "      <th>ca</th>\n",
              "      <th>thal</th>\n",
              "      <th>target</th>\n",
              "    </tr>\n",
              "  </thead>\n",
              "  <tbody>\n",
              "    <tr>\n",
              "      <th>0</th>\n",
              "      <td>52</td>\n",
              "      <td>1</td>\n",
              "      <td>0</td>\n",
              "      <td>125</td>\n",
              "      <td>212</td>\n",
              "      <td>0</td>\n",
              "      <td>1</td>\n",
              "      <td>168</td>\n",
              "      <td>0</td>\n",
              "      <td>1.0</td>\n",
              "      <td>2</td>\n",
              "      <td>2</td>\n",
              "      <td>3</td>\n",
              "      <td>0</td>\n",
              "    </tr>\n",
              "    <tr>\n",
              "      <th>1</th>\n",
              "      <td>53</td>\n",
              "      <td>1</td>\n",
              "      <td>0</td>\n",
              "      <td>140</td>\n",
              "      <td>203</td>\n",
              "      <td>1</td>\n",
              "      <td>0</td>\n",
              "      <td>155</td>\n",
              "      <td>1</td>\n",
              "      <td>3.1</td>\n",
              "      <td>0</td>\n",
              "      <td>0</td>\n",
              "      <td>3</td>\n",
              "      <td>0</td>\n",
              "    </tr>\n",
              "    <tr>\n",
              "      <th>2</th>\n",
              "      <td>70</td>\n",
              "      <td>1</td>\n",
              "      <td>0</td>\n",
              "      <td>145</td>\n",
              "      <td>174</td>\n",
              "      <td>0</td>\n",
              "      <td>1</td>\n",
              "      <td>125</td>\n",
              "      <td>1</td>\n",
              "      <td>2.6</td>\n",
              "      <td>0</td>\n",
              "      <td>0</td>\n",
              "      <td>3</td>\n",
              "      <td>0</td>\n",
              "    </tr>\n",
              "    <tr>\n",
              "      <th>3</th>\n",
              "      <td>61</td>\n",
              "      <td>1</td>\n",
              "      <td>0</td>\n",
              "      <td>148</td>\n",
              "      <td>203</td>\n",
              "      <td>0</td>\n",
              "      <td>1</td>\n",
              "      <td>161</td>\n",
              "      <td>0</td>\n",
              "      <td>0.0</td>\n",
              "      <td>2</td>\n",
              "      <td>1</td>\n",
              "      <td>3</td>\n",
              "      <td>0</td>\n",
              "    </tr>\n",
              "    <tr>\n",
              "      <th>4</th>\n",
              "      <td>62</td>\n",
              "      <td>0</td>\n",
              "      <td>0</td>\n",
              "      <td>138</td>\n",
              "      <td>294</td>\n",
              "      <td>1</td>\n",
              "      <td>1</td>\n",
              "      <td>106</td>\n",
              "      <td>0</td>\n",
              "      <td>1.9</td>\n",
              "      <td>1</td>\n",
              "      <td>3</td>\n",
              "      <td>2</td>\n",
              "      <td>0</td>\n",
              "    </tr>\n",
              "    <tr>\n",
              "      <th>...</th>\n",
              "      <td>...</td>\n",
              "      <td>...</td>\n",
              "      <td>...</td>\n",
              "      <td>...</td>\n",
              "      <td>...</td>\n",
              "      <td>...</td>\n",
              "      <td>...</td>\n",
              "      <td>...</td>\n",
              "      <td>...</td>\n",
              "      <td>...</td>\n",
              "      <td>...</td>\n",
              "      <td>...</td>\n",
              "      <td>...</td>\n",
              "      <td>...</td>\n",
              "    </tr>\n",
              "    <tr>\n",
              "      <th>723</th>\n",
              "      <td>68</td>\n",
              "      <td>0</td>\n",
              "      <td>2</td>\n",
              "      <td>120</td>\n",
              "      <td>211</td>\n",
              "      <td>0</td>\n",
              "      <td>0</td>\n",
              "      <td>115</td>\n",
              "      <td>0</td>\n",
              "      <td>1.5</td>\n",
              "      <td>1</td>\n",
              "      <td>0</td>\n",
              "      <td>2</td>\n",
              "      <td>1</td>\n",
              "    </tr>\n",
              "    <tr>\n",
              "      <th>733</th>\n",
              "      <td>44</td>\n",
              "      <td>0</td>\n",
              "      <td>2</td>\n",
              "      <td>108</td>\n",
              "      <td>141</td>\n",
              "      <td>0</td>\n",
              "      <td>1</td>\n",
              "      <td>175</td>\n",
              "      <td>0</td>\n",
              "      <td>0.6</td>\n",
              "      <td>1</td>\n",
              "      <td>0</td>\n",
              "      <td>2</td>\n",
              "      <td>1</td>\n",
              "    </tr>\n",
              "    <tr>\n",
              "      <th>739</th>\n",
              "      <td>52</td>\n",
              "      <td>1</td>\n",
              "      <td>0</td>\n",
              "      <td>128</td>\n",
              "      <td>255</td>\n",
              "      <td>0</td>\n",
              "      <td>1</td>\n",
              "      <td>161</td>\n",
              "      <td>1</td>\n",
              "      <td>0.0</td>\n",
              "      <td>2</td>\n",
              "      <td>1</td>\n",
              "      <td>3</td>\n",
              "      <td>0</td>\n",
              "    </tr>\n",
              "    <tr>\n",
              "      <th>843</th>\n",
              "      <td>59</td>\n",
              "      <td>1</td>\n",
              "      <td>3</td>\n",
              "      <td>160</td>\n",
              "      <td>273</td>\n",
              "      <td>0</td>\n",
              "      <td>0</td>\n",
              "      <td>125</td>\n",
              "      <td>0</td>\n",
              "      <td>0.0</td>\n",
              "      <td>2</td>\n",
              "      <td>0</td>\n",
              "      <td>2</td>\n",
              "      <td>0</td>\n",
              "    </tr>\n",
              "    <tr>\n",
              "      <th>878</th>\n",
              "      <td>54</td>\n",
              "      <td>1</td>\n",
              "      <td>0</td>\n",
              "      <td>120</td>\n",
              "      <td>188</td>\n",
              "      <td>0</td>\n",
              "      <td>1</td>\n",
              "      <td>113</td>\n",
              "      <td>0</td>\n",
              "      <td>1.4</td>\n",
              "      <td>1</td>\n",
              "      <td>1</td>\n",
              "      <td>3</td>\n",
              "      <td>0</td>\n",
              "    </tr>\n",
              "  </tbody>\n",
              "</table>\n",
              "<p>284 rows × 14 columns</p>\n",
              "</div>\n",
              "      <button class=\"colab-df-convert\" onclick=\"convertToInteractive('df-2d84bd36-7447-4e6c-ad9f-fa06f04c7924')\"\n",
              "              title=\"Convert this dataframe to an interactive table.\"\n",
              "              style=\"display:none;\">\n",
              "        \n",
              "  <svg xmlns=\"http://www.w3.org/2000/svg\" height=\"24px\"viewBox=\"0 0 24 24\"\n",
              "       width=\"24px\">\n",
              "    <path d=\"M0 0h24v24H0V0z\" fill=\"none\"/>\n",
              "    <path d=\"M18.56 5.44l.94 2.06.94-2.06 2.06-.94-2.06-.94-.94-2.06-.94 2.06-2.06.94zm-11 1L8.5 8.5l.94-2.06 2.06-.94-2.06-.94L8.5 2.5l-.94 2.06-2.06.94zm10 10l.94 2.06.94-2.06 2.06-.94-2.06-.94-.94-2.06-.94 2.06-2.06.94z\"/><path d=\"M17.41 7.96l-1.37-1.37c-.4-.4-.92-.59-1.43-.59-.52 0-1.04.2-1.43.59L10.3 9.45l-7.72 7.72c-.78.78-.78 2.05 0 2.83L4 21.41c.39.39.9.59 1.41.59.51 0 1.02-.2 1.41-.59l7.78-7.78 2.81-2.81c.8-.78.8-2.07 0-2.86zM5.41 20L4 18.59l7.72-7.72 1.47 1.35L5.41 20z\"/>\n",
              "  </svg>\n",
              "      </button>\n",
              "      \n",
              "  <style>\n",
              "    .colab-df-container {\n",
              "      display:flex;\n",
              "      flex-wrap:wrap;\n",
              "      gap: 12px;\n",
              "    }\n",
              "\n",
              "    .colab-df-convert {\n",
              "      background-color: #E8F0FE;\n",
              "      border: none;\n",
              "      border-radius: 50%;\n",
              "      cursor: pointer;\n",
              "      display: none;\n",
              "      fill: #1967D2;\n",
              "      height: 32px;\n",
              "      padding: 0 0 0 0;\n",
              "      width: 32px;\n",
              "    }\n",
              "\n",
              "    .colab-df-convert:hover {\n",
              "      background-color: #E2EBFA;\n",
              "      box-shadow: 0px 1px 2px rgba(60, 64, 67, 0.3), 0px 1px 3px 1px rgba(60, 64, 67, 0.15);\n",
              "      fill: #174EA6;\n",
              "    }\n",
              "\n",
              "    [theme=dark] .colab-df-convert {\n",
              "      background-color: #3B4455;\n",
              "      fill: #D2E3FC;\n",
              "    }\n",
              "\n",
              "    [theme=dark] .colab-df-convert:hover {\n",
              "      background-color: #434B5C;\n",
              "      box-shadow: 0px 1px 3px 1px rgba(0, 0, 0, 0.15);\n",
              "      filter: drop-shadow(0px 1px 2px rgba(0, 0, 0, 0.3));\n",
              "      fill: #FFFFFF;\n",
              "    }\n",
              "  </style>\n",
              "\n",
              "      <script>\n",
              "        const buttonEl =\n",
              "          document.querySelector('#df-2d84bd36-7447-4e6c-ad9f-fa06f04c7924 button.colab-df-convert');\n",
              "        buttonEl.style.display =\n",
              "          google.colab.kernel.accessAllowed ? 'block' : 'none';\n",
              "\n",
              "        async function convertToInteractive(key) {\n",
              "          const element = document.querySelector('#df-2d84bd36-7447-4e6c-ad9f-fa06f04c7924');\n",
              "          const dataTable =\n",
              "            await google.colab.kernel.invokeFunction('convertToInteractive',\n",
              "                                                     [key], {});\n",
              "          if (!dataTable) return;\n",
              "\n",
              "          const docLinkHtml = 'Like what you see? Visit the ' +\n",
              "            '<a target=\"_blank\" href=https://colab.research.google.com/notebooks/data_table.ipynb>data table notebook</a>'\n",
              "            + ' to learn more about interactive tables.';\n",
              "          element.innerHTML = '';\n",
              "          dataTable['output_type'] = 'display_data';\n",
              "          await google.colab.output.renderOutput(dataTable, element);\n",
              "          const docLink = document.createElement('div');\n",
              "          docLink.innerHTML = docLinkHtml;\n",
              "          element.appendChild(docLink);\n",
              "        }\n",
              "      </script>\n",
              "    </div>\n",
              "  </div>\n",
              "  "
            ]
          },
          "metadata": {},
          "execution_count": 21
        }
      ],
      "source": [
        "df"
      ]
    },
    {
      "cell_type": "code",
      "execution_count": 22,
      "metadata": {
        "colab": {
          "base_uri": "https://localhost:8080/"
        },
        "id": "asZGkXLROuLh",
        "outputId": "c41cb8e8-9f90-469b-e35d-1aa92d415e5c"
      },
      "outputs": [
        {
          "output_type": "stream",
          "name": "stdout",
          "text": [
            "Class 0: 126\n",
            "Class 1: 158\n",
            "Proportion: 0.8 : 1\n"
          ]
        }
      ],
      "source": [
        "#data imbalance\n",
        "#menghitung jumlah data pada setiap kelas target\n",
        "target_count = df['target'].value_counts()\n",
        "print('Class 0:', target_count[0])\n",
        "print('Class 1:', target_count[1])\n",
        "print('Proportion:', round(target_count[0] / target_count[1], 2), ': 1')"
      ]
    },
    {
      "cell_type": "markdown",
      "metadata": {
        "id": "5MDeOnFcSZkj"
      },
      "source": [
        "### 4. Check the descriptive statistics of the dataset (mean, distributions, etc)"
      ]
    },
    {
      "cell_type": "code",
      "execution_count": 23,
      "metadata": {
        "colab": {
          "base_uri": "https://localhost:8080/",
          "height": 300
        },
        "id": "hm346G2tzpnL",
        "outputId": "42cff1ad-cdf5-4456-ffc5-92e340b5ed48"
      },
      "outputs": [
        {
          "output_type": "execute_result",
          "data": {
            "text/plain": [
              "              age         sex          cp    trestbps        chol         fbs  \\\n",
              "count  284.000000  284.000000  284.000000  284.000000  284.000000  284.000000   \n",
              "mean    54.095070    0.700704    0.982394  129.848592  242.295775    0.140845   \n",
              "std      9.144392    0.458758    1.031161   15.371776   44.576339    0.348476   \n",
              "min     29.000000    0.000000    0.000000   94.000000  126.000000    0.000000   \n",
              "25%     47.000000    0.000000    0.000000  120.000000  210.750000    0.000000   \n",
              "50%     55.000000    1.000000    1.000000  130.000000  239.000000    0.000000   \n",
              "75%     60.250000    1.000000    2.000000  140.000000  270.250000    0.000000   \n",
              "max     77.000000    1.000000    3.000000  170.000000  360.000000    1.000000   \n",
              "\n",
              "          restecg     thalach       exang     oldpeak       slope          ca  \\\n",
              "count  284.000000  284.000000  284.000000  284.000000  284.000000  284.000000   \n",
              "mean     0.524648  149.683099    0.316901    0.952113    1.426056    0.693662   \n",
              "std      0.514206   23.131020    0.466090    1.024589    0.598724    0.984596   \n",
              "min      0.000000   71.000000    0.000000    0.000000    0.000000    0.000000   \n",
              "25%      0.000000  132.750000    0.000000    0.000000    1.000000    0.000000   \n",
              "50%      1.000000  153.000000    0.000000    0.600000    1.000000    0.000000   \n",
              "75%      1.000000  168.000000    1.000000    1.600000    2.000000    1.000000   \n",
              "max      2.000000  202.000000    1.000000    4.000000    2.000000    4.000000   \n",
              "\n",
              "             thal      target  \n",
              "count  284.000000  284.000000  \n",
              "mean     2.295775    0.556338  \n",
              "std      0.609567    0.497693  \n",
              "min      0.000000    0.000000  \n",
              "25%      2.000000    0.000000  \n",
              "50%      2.000000    1.000000  \n",
              "75%      3.000000    1.000000  \n",
              "max      3.000000    1.000000  "
            ],
            "text/html": [
              "\n",
              "  <div id=\"df-36a87bff-5d19-435f-8bcd-5e3a7899e9c9\">\n",
              "    <div class=\"colab-df-container\">\n",
              "      <div>\n",
              "<style scoped>\n",
              "    .dataframe tbody tr th:only-of-type {\n",
              "        vertical-align: middle;\n",
              "    }\n",
              "\n",
              "    .dataframe tbody tr th {\n",
              "        vertical-align: top;\n",
              "    }\n",
              "\n",
              "    .dataframe thead th {\n",
              "        text-align: right;\n",
              "    }\n",
              "</style>\n",
              "<table border=\"1\" class=\"dataframe\">\n",
              "  <thead>\n",
              "    <tr style=\"text-align: right;\">\n",
              "      <th></th>\n",
              "      <th>age</th>\n",
              "      <th>sex</th>\n",
              "      <th>cp</th>\n",
              "      <th>trestbps</th>\n",
              "      <th>chol</th>\n",
              "      <th>fbs</th>\n",
              "      <th>restecg</th>\n",
              "      <th>thalach</th>\n",
              "      <th>exang</th>\n",
              "      <th>oldpeak</th>\n",
              "      <th>slope</th>\n",
              "      <th>ca</th>\n",
              "      <th>thal</th>\n",
              "      <th>target</th>\n",
              "    </tr>\n",
              "  </thead>\n",
              "  <tbody>\n",
              "    <tr>\n",
              "      <th>count</th>\n",
              "      <td>284.000000</td>\n",
              "      <td>284.000000</td>\n",
              "      <td>284.000000</td>\n",
              "      <td>284.000000</td>\n",
              "      <td>284.000000</td>\n",
              "      <td>284.000000</td>\n",
              "      <td>284.000000</td>\n",
              "      <td>284.000000</td>\n",
              "      <td>284.000000</td>\n",
              "      <td>284.000000</td>\n",
              "      <td>284.000000</td>\n",
              "      <td>284.000000</td>\n",
              "      <td>284.000000</td>\n",
              "      <td>284.000000</td>\n",
              "    </tr>\n",
              "    <tr>\n",
              "      <th>mean</th>\n",
              "      <td>54.095070</td>\n",
              "      <td>0.700704</td>\n",
              "      <td>0.982394</td>\n",
              "      <td>129.848592</td>\n",
              "      <td>242.295775</td>\n",
              "      <td>0.140845</td>\n",
              "      <td>0.524648</td>\n",
              "      <td>149.683099</td>\n",
              "      <td>0.316901</td>\n",
              "      <td>0.952113</td>\n",
              "      <td>1.426056</td>\n",
              "      <td>0.693662</td>\n",
              "      <td>2.295775</td>\n",
              "      <td>0.556338</td>\n",
              "    </tr>\n",
              "    <tr>\n",
              "      <th>std</th>\n",
              "      <td>9.144392</td>\n",
              "      <td>0.458758</td>\n",
              "      <td>1.031161</td>\n",
              "      <td>15.371776</td>\n",
              "      <td>44.576339</td>\n",
              "      <td>0.348476</td>\n",
              "      <td>0.514206</td>\n",
              "      <td>23.131020</td>\n",
              "      <td>0.466090</td>\n",
              "      <td>1.024589</td>\n",
              "      <td>0.598724</td>\n",
              "      <td>0.984596</td>\n",
              "      <td>0.609567</td>\n",
              "      <td>0.497693</td>\n",
              "    </tr>\n",
              "    <tr>\n",
              "      <th>min</th>\n",
              "      <td>29.000000</td>\n",
              "      <td>0.000000</td>\n",
              "      <td>0.000000</td>\n",
              "      <td>94.000000</td>\n",
              "      <td>126.000000</td>\n",
              "      <td>0.000000</td>\n",
              "      <td>0.000000</td>\n",
              "      <td>71.000000</td>\n",
              "      <td>0.000000</td>\n",
              "      <td>0.000000</td>\n",
              "      <td>0.000000</td>\n",
              "      <td>0.000000</td>\n",
              "      <td>0.000000</td>\n",
              "      <td>0.000000</td>\n",
              "    </tr>\n",
              "    <tr>\n",
              "      <th>25%</th>\n",
              "      <td>47.000000</td>\n",
              "      <td>0.000000</td>\n",
              "      <td>0.000000</td>\n",
              "      <td>120.000000</td>\n",
              "      <td>210.750000</td>\n",
              "      <td>0.000000</td>\n",
              "      <td>0.000000</td>\n",
              "      <td>132.750000</td>\n",
              "      <td>0.000000</td>\n",
              "      <td>0.000000</td>\n",
              "      <td>1.000000</td>\n",
              "      <td>0.000000</td>\n",
              "      <td>2.000000</td>\n",
              "      <td>0.000000</td>\n",
              "    </tr>\n",
              "    <tr>\n",
              "      <th>50%</th>\n",
              "      <td>55.000000</td>\n",
              "      <td>1.000000</td>\n",
              "      <td>1.000000</td>\n",
              "      <td>130.000000</td>\n",
              "      <td>239.000000</td>\n",
              "      <td>0.000000</td>\n",
              "      <td>1.000000</td>\n",
              "      <td>153.000000</td>\n",
              "      <td>0.000000</td>\n",
              "      <td>0.600000</td>\n",
              "      <td>1.000000</td>\n",
              "      <td>0.000000</td>\n",
              "      <td>2.000000</td>\n",
              "      <td>1.000000</td>\n",
              "    </tr>\n",
              "    <tr>\n",
              "      <th>75%</th>\n",
              "      <td>60.250000</td>\n",
              "      <td>1.000000</td>\n",
              "      <td>2.000000</td>\n",
              "      <td>140.000000</td>\n",
              "      <td>270.250000</td>\n",
              "      <td>0.000000</td>\n",
              "      <td>1.000000</td>\n",
              "      <td>168.000000</td>\n",
              "      <td>1.000000</td>\n",
              "      <td>1.600000</td>\n",
              "      <td>2.000000</td>\n",
              "      <td>1.000000</td>\n",
              "      <td>3.000000</td>\n",
              "      <td>1.000000</td>\n",
              "    </tr>\n",
              "    <tr>\n",
              "      <th>max</th>\n",
              "      <td>77.000000</td>\n",
              "      <td>1.000000</td>\n",
              "      <td>3.000000</td>\n",
              "      <td>170.000000</td>\n",
              "      <td>360.000000</td>\n",
              "      <td>1.000000</td>\n",
              "      <td>2.000000</td>\n",
              "      <td>202.000000</td>\n",
              "      <td>1.000000</td>\n",
              "      <td>4.000000</td>\n",
              "      <td>2.000000</td>\n",
              "      <td>4.000000</td>\n",
              "      <td>3.000000</td>\n",
              "      <td>1.000000</td>\n",
              "    </tr>\n",
              "  </tbody>\n",
              "</table>\n",
              "</div>\n",
              "      <button class=\"colab-df-convert\" onclick=\"convertToInteractive('df-36a87bff-5d19-435f-8bcd-5e3a7899e9c9')\"\n",
              "              title=\"Convert this dataframe to an interactive table.\"\n",
              "              style=\"display:none;\">\n",
              "        \n",
              "  <svg xmlns=\"http://www.w3.org/2000/svg\" height=\"24px\"viewBox=\"0 0 24 24\"\n",
              "       width=\"24px\">\n",
              "    <path d=\"M0 0h24v24H0V0z\" fill=\"none\"/>\n",
              "    <path d=\"M18.56 5.44l.94 2.06.94-2.06 2.06-.94-2.06-.94-.94-2.06-.94 2.06-2.06.94zm-11 1L8.5 8.5l.94-2.06 2.06-.94-2.06-.94L8.5 2.5l-.94 2.06-2.06.94zm10 10l.94 2.06.94-2.06 2.06-.94-2.06-.94-.94-2.06-.94 2.06-2.06.94z\"/><path d=\"M17.41 7.96l-1.37-1.37c-.4-.4-.92-.59-1.43-.59-.52 0-1.04.2-1.43.59L10.3 9.45l-7.72 7.72c-.78.78-.78 2.05 0 2.83L4 21.41c.39.39.9.59 1.41.59.51 0 1.02-.2 1.41-.59l7.78-7.78 2.81-2.81c.8-.78.8-2.07 0-2.86zM5.41 20L4 18.59l7.72-7.72 1.47 1.35L5.41 20z\"/>\n",
              "  </svg>\n",
              "      </button>\n",
              "      \n",
              "  <style>\n",
              "    .colab-df-container {\n",
              "      display:flex;\n",
              "      flex-wrap:wrap;\n",
              "      gap: 12px;\n",
              "    }\n",
              "\n",
              "    .colab-df-convert {\n",
              "      background-color: #E8F0FE;\n",
              "      border: none;\n",
              "      border-radius: 50%;\n",
              "      cursor: pointer;\n",
              "      display: none;\n",
              "      fill: #1967D2;\n",
              "      height: 32px;\n",
              "      padding: 0 0 0 0;\n",
              "      width: 32px;\n",
              "    }\n",
              "\n",
              "    .colab-df-convert:hover {\n",
              "      background-color: #E2EBFA;\n",
              "      box-shadow: 0px 1px 2px rgba(60, 64, 67, 0.3), 0px 1px 3px 1px rgba(60, 64, 67, 0.15);\n",
              "      fill: #174EA6;\n",
              "    }\n",
              "\n",
              "    [theme=dark] .colab-df-convert {\n",
              "      background-color: #3B4455;\n",
              "      fill: #D2E3FC;\n",
              "    }\n",
              "\n",
              "    [theme=dark] .colab-df-convert:hover {\n",
              "      background-color: #434B5C;\n",
              "      box-shadow: 0px 1px 3px 1px rgba(0, 0, 0, 0.15);\n",
              "      filter: drop-shadow(0px 1px 2px rgba(0, 0, 0, 0.3));\n",
              "      fill: #FFFFFF;\n",
              "    }\n",
              "  </style>\n",
              "\n",
              "      <script>\n",
              "        const buttonEl =\n",
              "          document.querySelector('#df-36a87bff-5d19-435f-8bcd-5e3a7899e9c9 button.colab-df-convert');\n",
              "        buttonEl.style.display =\n",
              "          google.colab.kernel.accessAllowed ? 'block' : 'none';\n",
              "\n",
              "        async function convertToInteractive(key) {\n",
              "          const element = document.querySelector('#df-36a87bff-5d19-435f-8bcd-5e3a7899e9c9');\n",
              "          const dataTable =\n",
              "            await google.colab.kernel.invokeFunction('convertToInteractive',\n",
              "                                                     [key], {});\n",
              "          if (!dataTable) return;\n",
              "\n",
              "          const docLinkHtml = 'Like what you see? Visit the ' +\n",
              "            '<a target=\"_blank\" href=https://colab.research.google.com/notebooks/data_table.ipynb>data table notebook</a>'\n",
              "            + ' to learn more about interactive tables.';\n",
              "          element.innerHTML = '';\n",
              "          dataTable['output_type'] = 'display_data';\n",
              "          await google.colab.output.renderOutput(dataTable, element);\n",
              "          const docLink = document.createElement('div');\n",
              "          docLink.innerHTML = docLinkHtml;\n",
              "          element.appendChild(docLink);\n",
              "        }\n",
              "      </script>\n",
              "    </div>\n",
              "  </div>\n",
              "  "
            ]
          },
          "metadata": {},
          "execution_count": 23
        }
      ],
      "source": [
        "df.describe()"
      ]
    },
    {
      "cell_type": "markdown",
      "metadata": {
        "id": "Hn9UZId9Sd4P"
      },
      "source": [
        "### 5. Check the correlation between features"
      ]
    },
    {
      "cell_type": "code",
      "execution_count": 24,
      "metadata": {
        "colab": {
          "base_uri": "https://localhost:8080/",
          "height": 836
        },
        "id": "FzcRSoMw1iHt",
        "outputId": "656002fa-8b3b-4c29-9fb9-1c60ce2f76d2"
      },
      "outputs": [
        {
          "output_type": "display_data",
          "data": {
            "text/plain": [
              "<Figure size 1200x1000 with 2 Axes>"
            ],
            "image/png": "[encoded data removed]"
          },
          "metadata": {}
        }
      ],
      "source": [
        "correlation_matrix = df.corr()\n",
        "plt.figure(figsize=(12,10))\n",
        "sns.heatmap(round(correlation_matrix,2), annot=True)\n",
        "plt.show()\n"
      ]
    },
    {
      "cell_type": "markdown",
      "metadata": {
        "id": "TCOqUTxO3UbO"
      },
      "source": [
        "Berdasarkan visualisasi diatas, bahwa ternyata usia memiliki korelasi negatif terhadap target. Ada beberapa variabel yang memiliki positif correlation terhadap target seperti (cp, restecg, thalach, and slope) "
      ]
    },
    {
      "cell_type": "code",
      "execution_count": 25,
      "metadata": {
        "id": "SvvUg-9I1TV_"
      },
      "outputs": [],
      "source": [
        "# sns.pairplot(df, hue='target')"
      ]
    },
    {
      "cell_type": "markdown",
      "metadata": {
        "id": "upuPL2MZSjaU"
      },
      "source": [
        "### 6. Visualize points 4 and 5"
      ]
    },
    {
      "cell_type": "code",
      "execution_count": 26,
      "metadata": {
        "colab": {
          "base_uri": "https://localhost:8080/",
          "height": 607
        },
        "id": "_vLa7pADz8qS",
        "outputId": "b8c19044-757a-4dc6-a09b-9cd40fe1fa09"
      },
      "outputs": [
        {
          "output_type": "display_data",
          "data": {
            "text/plain": [
              "<Figure size 1000x600 with 12 Axes>"
            ],
            "image/png": "[encoded data removed]"
          },
          "metadata": {}
        }
      ],
      "source": [
        "fig, axes = plt.subplots(nrows=4, ncols=3, figsize=(10, 6))\n",
        "for ax, column in zip(axes.ravel(), ['age', 'cp', 'trestbps', 'chol','restecg','thalach',\n",
        "                                    'oldpeak','slope','ca','thal']):\n",
        "    ax.hist(df[column])\n",
        "    ax.set_title(column)\n",
        "plt.tight_layout()\n",
        "plt.show()"
      ]
    },
    {
      "cell_type": "code",
      "execution_count": 27,
      "metadata": {
        "colab": {
          "base_uri": "https://localhost:8080/",
          "height": 510
        },
        "id": "1QF-R14qBZo4",
        "outputId": "0a315237-53a9-4d11-d057-19852edbf2fc"
      },
      "outputs": [
        {
          "output_type": "execute_result",
          "data": {
            "text/plain": [
              "Text(0.5, 1.0, 'Gender vs target\\n')"
            ]
          },
          "metadata": {},
          "execution_count": 27
        },
        {
          "output_type": "display_data",
          "data": {
            "text/plain": [
              "<Figure size 640x480 with 1 Axes>"
            ],
            "image/png": "[encoded data removed]"
          },
          "metadata": {}
        }
      ],
      "source": [
        "sns.countplot(data= df, x='sex',hue='target')\n",
        "plt.title('Gender vs target\\n')"
      ]
    },
    {
      "cell_type": "code",
      "execution_count": 28,
      "metadata": {
        "colab": {
          "base_uri": "https://localhost:8080/",
          "height": 510
        },
        "id": "7FEHxGUeBpRn",
        "outputId": "be39f581-9a2a-4e09-f266-ec62454c292a"
      },
      "outputs": [
        {
          "output_type": "execute_result",
          "data": {
            "text/plain": [
              "Text(0.5, 1.0, 'Chest Pain Type vs target\\n')"
            ]
          },
          "metadata": {},
          "execution_count": 28
        },
        {
          "output_type": "display_data",
          "data": {
            "text/plain": [
              "<Figure size 640x480 with 1 Axes>"
            ],
            "image/png": "[encoded data removed]"
          },
          "metadata": {}
        }
      ],
      "source": [
        "sns.countplot(data= df, x='cp',hue='target')\n",
        "plt.title('Chest Pain Type vs target\\n')"
      ]
    },
    {
      "cell_type": "code",
      "execution_count": 29,
      "metadata": {
        "colab": {
          "base_uri": "https://localhost:8080/",
          "height": 510
        },
        "id": "GMjDL0C1B2bq",
        "outputId": "1d746a67-71e6-4bdf-d360-770205954397"
      },
      "outputs": [
        {
          "output_type": "execute_result",
          "data": {
            "text/plain": [
              "Text(0.5, 1.0, 'Chest Pain Type vs target\\n')"
            ]
          },
          "metadata": {},
          "execution_count": 29
        },
        {
          "output_type": "display_data",
          "data": {
            "text/plain": [
              "<Figure size 640x480 with 1 Axes>"
            ],
            "image/png": "[encoded data removed]"
          },
          "metadata": {}
        }
      ],
      "source": [
        "sns.countplot(data= df, x='restecg',hue='target')\n",
        "plt.title('Chest Pain Type vs target\\n')"
      ]
    },
    {
      "cell_type": "code",
      "execution_count": 30,
      "metadata": {
        "colab": {
          "base_uri": "https://localhost:8080/",
          "height": 510
        },
        "id": "AMiovqqkCANq",
        "outputId": "077fbe32-c64c-433f-af41-a5032dd38f21"
      },
      "outputs": [
        {
          "output_type": "execute_result",
          "data": {
            "text/plain": [
              "Text(0.5, 1.0, 'Chest Pain Type vs target\\n')"
            ]
          },
          "metadata": {},
          "execution_count": 30
        },
        {
          "output_type": "display_data",
          "data": {
            "text/plain": [
              "<Figure size 640x480 with 1 Axes>"
            ],
            "image/png": "[encoded data removed]"
          },
          "metadata": {}
        }
      ],
      "source": [
        "sns.countplot(data= df, x='slope',hue='target')\n",
        "plt.title('Chest Pain Type vs target\\n')"
      ]
    },
    {
      "cell_type": "markdown",
      "metadata": {
        "id": "FX9LZL0WSmZk"
      },
      "source": [
        "### 7. Define possible feature engineering through encoding"
      ]
    },
    {
      "cell_type": "code",
      "execution_count": 31,
      "metadata": {
        "colab": {
          "base_uri": "https://localhost:8080/",
          "height": 424
        },
        "id": "fQHzVdaJ9ime",
        "outputId": "81f45033-ab6b-4538-aab9-6cac7adf93fe"
      },
      "outputs": [
        {
          "output_type": "execute_result",
          "data": {
            "text/plain": [
              "     age  sex  cp  trestbps  chol  fbs  restecg  thalach  exang  oldpeak  \\\n",
              "0     52    1   0       125   212    0        1      168      0      1.0   \n",
              "1     53    1   0       140   203    1        0      155      1      3.1   \n",
              "2     70    1   0       145   174    0        1      125      1      2.6   \n",
              "3     61    1   0       148   203    0        1      161      0      0.0   \n",
              "4     62    0   0       138   294    1        1      106      0      1.9   \n",
              "..   ...  ...  ..       ...   ...  ...      ...      ...    ...      ...   \n",
              "723   68    0   2       120   211    0        0      115      0      1.5   \n",
              "733   44    0   2       108   141    0        1      175      0      0.6   \n",
              "739   52    1   0       128   255    0        1      161      1      0.0   \n",
              "843   59    1   3       160   273    0        0      125      0      0.0   \n",
              "878   54    1   0       120   188    0        1      113      0      1.4   \n",
              "\n",
              "     slope  ca  thal  target  \n",
              "0        2   2     3       0  \n",
              "1        0   0     3       0  \n",
              "2        0   0     3       0  \n",
              "3        2   1     3       0  \n",
              "4        1   3     2       0  \n",
              "..     ...  ..   ...     ...  \n",
              "723      1   0     2       1  \n",
              "733      1   0     2       1  \n",
              "739      2   1     3       0  \n",
              "843      2   0     2       0  \n",
              "878      1   1     3       0  \n",
              "\n",
              "[284 rows x 14 columns]"
            ],
            "text/html": [
              "\n",
              "  <div id=\"df-b060472b-ea71-48bd-b5d6-9834618fd0cf\">\n",
              "    <div class=\"colab-df-container\">\n",
              "      <div>\n",
              "<style scoped>\n",
              "    .dataframe tbody tr th:only-of-type {\n",
              "        vertical-align: middle;\n",
              "    }\n",
              "\n",
              "    .dataframe tbody tr th {\n",
              "        vertical-align: top;\n",
              "    }\n",
              "\n",
              "    .dataframe thead th {\n",
              "        text-align: right;\n",
              "    }\n",
              "</style>\n",
              "<table border=\"1\" class=\"dataframe\">\n",
              "  <thead>\n",
              "    <tr style=\"text-align: right;\">\n",
              "      <th></th>\n",
              "      <th>age</th>\n",
              "      <th>sex</th>\n",
              "      <th>cp</th>\n",
              "      <th>trestbps</th>\n",
              "      <th>chol</th>\n",
              "      <th>fbs</th>\n",
              "      <th>restecg</th>\n",
              "      <th>thalach</th>\n",
              "      <th>exang</th>\n",
              "      <th>oldpeak</th>\n",
              "      <th>slope</th>\n",
              "      <th>ca</th>\n",
              "      <th>thal</th>\n",
              "      <th>target</th>\n",
              "    </tr>\n",
              "  </thead>\n",
              "  <tbody>\n",
              "    <tr>\n",
              "      <th>0</th>\n",
              "      <td>52</td>\n",
              "      <td>1</td>\n",
              "      <td>0</td>\n",
              "      <td>125</td>\n",
              "      <td>212</td>\n",
              "      <td>0</td>\n",
              "      <td>1</td>\n",
              "      <td>168</td>\n",
              "      <td>0</td>\n",
              "      <td>1.0</td>\n",
              "      <td>2</td>\n",
              "      <td>2</td>\n",
              "      <td>3</td>\n",
              "      <td>0</td>\n",
              "    </tr>\n",
              "    <tr>\n",
              "      <th>1</th>\n",
              "      <td>53</td>\n",
              "      <td>1</td>\n",
              "      <td>0</td>\n",
              "      <td>140</td>\n",
              "      <td>203</td>\n",
              "      <td>1</td>\n",
              "      <td>0</td>\n",
              "      <td>155</td>\n",
              "      <td>1</td>\n",
              "      <td>3.1</td>\n",
              "      <td>0</td>\n",
              "      <td>0</td>\n",
              "      <td>3</td>\n",
              "      <td>0</td>\n",
              "    </tr>\n",
              "    <tr>\n",
              "      <th>2</th>\n",
              "      <td>70</td>\n",
              "      <td>1</td>\n",
              "      <td>0</td>\n",
              "      <td>145</td>\n",
              "      <td>174</td>\n",
              "      <td>0</td>\n",
              "      <td>1</td>\n",
              "      <td>125</td>\n",
              "      <td>1</td>\n",
              "      <td>2.6</td>\n",
              "      <td>0</td>\n",
              "      <td>0</td>\n",
              "      <td>3</td>\n",
              "      <td>0</td>\n",
              "    </tr>\n",
              "    <tr>\n",
              "      <th>3</th>\n",
              "      <td>61</td>\n",
              "      <td>1</td>\n",
              "      <td>0</td>\n",
              "      <td>148</td>\n",
              "      <td>203</td>\n",
              "      <td>0</td>\n",
              "      <td>1</td>\n",
              "      <td>161</td>\n",
              "      <td>0</td>\n",
              "      <td>0.0</td>\n",
              "      <td>2</td>\n",
              "      <td>1</td>\n",
              "      <td>3</td>\n",
              "      <td>0</td>\n",
              "    </tr>\n",
              "    <tr>\n",
              "      <th>4</th>\n",
              "      <td>62</td>\n",
              "      <td>0</td>\n",
              "      <td>0</td>\n",
              "      <td>138</td>\n",
              "      <td>294</td>\n",
              "      <td>1</td>\n",
              "      <td>1</td>\n",
              "      <td>106</td>\n",
              "      <td>0</td>\n",
              "      <td>1.9</td>\n",
              "      <td>1</td>\n",
              "      <td>3</td>\n",
              "      <td>2</td>\n",
              "      <td>0</td>\n",
              "    </tr>\n",
              "    <tr>\n",
              "      <th>...</th>\n",
              "      <td>...</td>\n",
              "      <td>...</td>\n",
              "      <td>...</td>\n",
              "      <td>...</td>\n",
              "      <td>...</td>\n",
              "      <td>...</td>\n",
              "      <td>...</td>\n",
              "      <td>...</td>\n",
              "      <td>...</td>\n",
              "      <td>...</td>\n",
              "      <td>...</td>\n",
              "      <td>...</td>\n",
              "      <td>...</td>\n",
              "      <td>...</td>\n",
              "    </tr>\n",
              "    <tr>\n",
              "      <th>723</th>\n",
              "      <td>68</td>\n",
              "      <td>0</td>\n",
              "      <td>2</td>\n",
              "      <td>120</td>\n",
              "      <td>211</td>\n",
              "      <td>0</td>\n",
              "      <td>0</td>\n",
              "      <td>115</td>\n",
              "      <td>0</td>\n",
              "      <td>1.5</td>\n",
              "      <td>1</td>\n",
              "      <td>0</td>\n",
              "      <td>2</td>\n",
              "      <td>1</td>\n",
              "    </tr>\n",
              "    <tr>\n",
              "      <th>733</th>\n",
              "      <td>44</td>\n",
              "      <td>0</td>\n",
              "      <td>2</td>\n",
              "      <td>108</td>\n",
              "      <td>141</td>\n",
              "      <td>0</td>\n",
              "      <td>1</td>\n",
              "      <td>175</td>\n",
              "      <td>0</td>\n",
              "      <td>0.6</td>\n",
              "      <td>1</td>\n",
              "      <td>0</td>\n",
              "      <td>2</td>\n",
              "      <td>1</td>\n",
              "    </tr>\n",
              "    <tr>\n",
              "      <th>739</th>\n",
              "      <td>52</td>\n",
              "      <td>1</td>\n",
              "      <td>0</td>\n",
              "      <td>128</td>\n",
              "      <td>255</td>\n",
              "      <td>0</td>\n",
              "      <td>1</td>\n",
              "      <td>161</td>\n",
              "      <td>1</td>\n",
              "      <td>0.0</td>\n",
              "      <td>2</td>\n",
              "      <td>1</td>\n",
              "      <td>3</td>\n",
              "      <td>0</td>\n",
              "    </tr>\n",
              "    <tr>\n",
              "      <th>843</th>\n",
              "      <td>59</td>\n",
              "      <td>1</td>\n",
              "      <td>3</td>\n",
              "      <td>160</td>\n",
              "      <td>273</td>\n",
              "      <td>0</td>\n",
              "      <td>0</td>\n",
              "      <td>125</td>\n",
              "      <td>0</td>\n",
              "      <td>0.0</td>\n",
              "      <td>2</td>\n",
              "      <td>0</td>\n",
              "      <td>2</td>\n",
              "      <td>0</td>\n",
              "    </tr>\n",
              "    <tr>\n",
              "      <th>878</th>\n",
              "      <td>54</td>\n",
              "      <td>1</td>\n",
              "      <td>0</td>\n",
              "      <td>120</td>\n",
              "      <td>188</td>\n",
              "      <td>0</td>\n",
              "      <td>1</td>\n",
              "      <td>113</td>\n",
              "      <td>0</td>\n",
              "      <td>1.4</td>\n",
              "      <td>1</td>\n",
              "      <td>1</td>\n",
              "      <td>3</td>\n",
              "      <td>0</td>\n",
              "    </tr>\n",
              "  </tbody>\n",
              "</table>\n",
              "<p>284 rows × 14 columns</p>\n",
              "</div>\n",
              "      <button class=\"colab-df-convert\" onclick=\"convertToInteractive('df-b060472b-ea71-48bd-b5d6-9834618fd0cf')\"\n",
              "              title=\"Convert this dataframe to an interactive table.\"\n",
              "              style=\"display:none;\">\n",
              "        \n",
              "  <svg xmlns=\"http://www.w3.org/2000/svg\" height=\"24px\"viewBox=\"0 0 24 24\"\n",
              "       width=\"24px\">\n",
              "    <path d=\"M0 0h24v24H0V0z\" fill=\"none\"/>\n",
              "    <path d=\"M18.56 5.44l.94 2.06.94-2.06 2.06-.94-2.06-.94-.94-2.06-.94 2.06-2.06.94zm-11 1L8.5 8.5l.94-2.06 2.06-.94-2.06-.94L8.5 2.5l-.94 2.06-2.06.94zm10 10l.94 2.06.94-2.06 2.06-.94-2.06-.94-.94-2.06-.94 2.06-2.06.94z\"/><path d=\"M17.41 7.96l-1.37-1.37c-.4-.4-.92-.59-1.43-.59-.52 0-1.04.2-1.43.59L10.3 9.45l-7.72 7.72c-.78.78-.78 2.05 0 2.83L4 21.41c.39.39.9.59 1.41.59.51 0 1.02-.2 1.41-.59l7.78-7.78 2.81-2.81c.8-.78.8-2.07 0-2.86zM5.41 20L4 18.59l7.72-7.72 1.47 1.35L5.41 20z\"/>\n",
              "  </svg>\n",
              "      </button>\n",
              "      \n",
              "  <style>\n",
              "    .colab-df-container {\n",
              "      display:flex;\n",
              "      flex-wrap:wrap;\n",
              "      gap: 12px;\n",
              "    }\n",
              "\n",
              "    .colab-df-convert {\n",
              "      background-color: #E8F0FE;\n",
              "      border: none;\n",
              "      border-radius: 50%;\n",
              "      cursor: pointer;\n",
              "      display: none;\n",
              "      fill: #1967D2;\n",
              "      height: 32px;\n",
              "      padding: 0 0 0 0;\n",
              "      width: 32px;\n",
              "    }\n",
              "\n",
              "    .colab-df-convert:hover {\n",
              "      background-color: #E2EBFA;\n",
              "      box-shadow: 0px 1px 2px rgba(60, 64, 67, 0.3), 0px 1px 3px 1px rgba(60, 64, 67, 0.15);\n",
              "      fill: #174EA6;\n",
              "    }\n",
              "\n",
              "    [theme=dark] .colab-df-convert {\n",
              "      background-color: #3B4455;\n",
              "      fill: #D2E3FC;\n",
              "    }\n",
              "\n",
              "    [theme=dark] .colab-df-convert:hover {\n",
              "      background-color: #434B5C;\n",
              "      box-shadow: 0px 1px 3px 1px rgba(0, 0, 0, 0.15);\n",
              "      filter: drop-shadow(0px 1px 2px rgba(0, 0, 0, 0.3));\n",
              "      fill: #FFFFFF;\n",
              "    }\n",
              "  </style>\n",
              "\n",
              "      <script>\n",
              "        const buttonEl =\n",
              "          document.querySelector('#df-b060472b-ea71-48bd-b5d6-9834618fd0cf button.colab-df-convert');\n",
              "        buttonEl.style.display =\n",
              "          google.colab.kernel.accessAllowed ? 'block' : 'none';\n",
              "\n",
              "        async function convertToInteractive(key) {\n",
              "          const element = document.querySelector('#df-b060472b-ea71-48bd-b5d6-9834618fd0cf');\n",
              "          const dataTable =\n",
              "            await google.colab.kernel.invokeFunction('convertToInteractive',\n",
              "                                                     [key], {});\n",
              "          if (!dataTable) return;\n",
              "\n",
              "          const docLinkHtml = 'Like what you see? Visit the ' +\n",
              "            '<a target=\"_blank\" href=https://colab.research.google.com/notebooks/data_table.ipynb>data table notebook</a>'\n",
              "            + ' to learn more about interactive tables.';\n",
              "          element.innerHTML = '';\n",
              "          dataTable['output_type'] = 'display_data';\n",
              "          await google.colab.output.renderOutput(dataTable, element);\n",
              "          const docLink = document.createElement('div');\n",
              "          docLink.innerHTML = docLinkHtml;\n",
              "          element.appendChild(docLink);\n",
              "        }\n",
              "      </script>\n",
              "    </div>\n",
              "  </div>\n",
              "  "
            ]
          },
          "metadata": {},
          "execution_count": 31
        }
      ],
      "source": [
        "df"
      ]
    },
    {
      "cell_type": "markdown",
      "metadata": {
        "id": "aNG-suUjAlho"
      },
      "source": [
        "Membuat kolom baru katagori berdasarkan umur dengan ('young', 'middle-aged', 'old')"
      ]
    },
    {
      "cell_type": "code",
      "execution_count": 32,
      "metadata": {
        "id": "6CE0tRTO_-jT"
      },
      "outputs": [],
      "source": [
        "age_bins = [0, 40, 55, 100]\n",
        "age_labels = ['young', 'middle-aged', 'old']\n",
        "df['age_category'] = pd.cut(df['age'], bins=age_bins, labels=age_labels)"
      ]
    },
    {
      "cell_type": "code",
      "execution_count": 33,
      "metadata": {
        "colab": {
          "base_uri": "https://localhost:8080/",
          "height": 424
        },
        "id": "slsSxYXKATEp",
        "outputId": "493a92b7-6470-4194-cc8a-2035e4d2e099"
      },
      "outputs": [
        {
          "output_type": "execute_result",
          "data": {
            "text/plain": [
              "     age  sex  cp  trestbps  chol  fbs  restecg  thalach  exang  oldpeak  \\\n",
              "0     52    1   0       125   212    0        1      168      0      1.0   \n",
              "1     53    1   0       140   203    1        0      155      1      3.1   \n",
              "2     70    1   0       145   174    0        1      125      1      2.6   \n",
              "3     61    1   0       148   203    0        1      161      0      0.0   \n",
              "4     62    0   0       138   294    1        1      106      0      1.9   \n",
              "..   ...  ...  ..       ...   ...  ...      ...      ...    ...      ...   \n",
              "723   68    0   2       120   211    0        0      115      0      1.5   \n",
              "733   44    0   2       108   141    0        1      175      0      0.6   \n",
              "739   52    1   0       128   255    0        1      161      1      0.0   \n",
              "843   59    1   3       160   273    0        0      125      0      0.0   \n",
              "878   54    1   0       120   188    0        1      113      0      1.4   \n",
              "\n",
              "     slope  ca  thal  target age_category  \n",
              "0        2   2     3       0  middle-aged  \n",
              "1        0   0     3       0  middle-aged  \n",
              "2        0   0     3       0          old  \n",
              "3        2   1     3       0          old  \n",
              "4        1   3     2       0          old  \n",
              "..     ...  ..   ...     ...          ...  \n",
              "723      1   0     2       1          old  \n",
              "733      1   0     2       1  middle-aged  \n",
              "739      2   1     3       0  middle-aged  \n",
              "843      2   0     2       0          old  \n",
              "878      1   1     3       0  middle-aged  \n",
              "\n",
              "[284 rows x 15 columns]"
            ],
            "text/html": [
              "\n",
              "  <div id=\"df-c4d44861-5823-4448-a5b0-a87364dbcec8\">\n",
              "    <div class=\"colab-df-container\">\n",
              "      <div>\n",
              "<style scoped>\n",
              "    .dataframe tbody tr th:only-of-type {\n",
              "        vertical-align: middle;\n",
              "    }\n",
              "\n",
              "    .dataframe tbody tr th {\n",
              "        vertical-align: top;\n",
              "    }\n",
              "\n",
              "    .dataframe thead th {\n",
              "        text-align: right;\n",
              "    }\n",
              "</style>\n",
              "<table border=\"1\" class=\"dataframe\">\n",
              "  <thead>\n",
              "    <tr style=\"text-align: right;\">\n",
              "      <th></th>\n",
              "      <th>age</th>\n",
              "      <th>sex</th>\n",
              "      <th>cp</th>\n",
              "      <th>trestbps</th>\n",
              "      <th>chol</th>\n",
              "      <th>fbs</th>\n",
              "      <th>restecg</th>\n",
              "      <th>thalach</th>\n",
              "      <th>exang</th>\n",
              "      <th>oldpeak</th>\n",
              "      <th>slope</th>\n",
              "      <th>ca</th>\n",
              "      <th>thal</th>\n",
              "      <th>target</th>\n",
              "      <th>age_category</th>\n",
              "    </tr>\n",
              "  </thead>\n",
              "  <tbody>\n",
              "    <tr>\n",
              "      <th>0</th>\n",
              "      <td>52</td>\n",
              "      <td>1</td>\n",
              "      <td>0</td>\n",
              "      <td>125</td>\n",
              "      <td>212</td>\n",
              "      <td>0</td>\n",
              "      <td>1</td>\n",
              "      <td>168</td>\n",
              "      <td>0</td>\n",
              "      <td>1.0</td>\n",
              "      <td>2</td>\n",
              "      <td>2</td>\n",
              "      <td>3</td>\n",
              "      <td>0</td>\n",
              "      <td>middle-aged</td>\n",
              "    </tr>\n",
              "    <tr>\n",
              "      <th>1</th>\n",
              "      <td>53</td>\n",
              "      <td>1</td>\n",
              "      <td>0</td>\n",
              "      <td>140</td>\n",
              "      <td>203</td>\n",
              "      <td>1</td>\n",
              "      <td>0</td>\n",
              "      <td>155</td>\n",
              "      <td>1</td>\n",
              "      <td>3.1</td>\n",
              "      <td>0</td>\n",
              "      <td>0</td>\n",
              "      <td>3</td>\n",
              "      <td>0</td>\n",
              "      <td>middle-aged</td>\n",
              "    </tr>\n",
              "    <tr>\n",
              "      <th>2</th>\n",
              "      <td>70</td>\n",
              "      <td>1</td>\n",
              "      <td>0</td>\n",
              "      <td>145</td>\n",
              "      <td>174</td>\n",
              "      <td>0</td>\n",
              "      <td>1</td>\n",
              "      <td>125</td>\n",
              "      <td>1</td>\n",
              "      <td>2.6</td>\n",
              "      <td>0</td>\n",
              "      <td>0</td>\n",
              "      <td>3</td>\n",
              "      <td>0</td>\n",
              "      <td>old</td>\n",
              "    </tr>\n",
              "    <tr>\n",
              "      <th>3</th>\n",
              "      <td>61</td>\n",
              "      <td>1</td>\n",
              "      <td>0</td>\n",
              "      <td>148</td>\n",
              "      <td>203</td>\n",
              "      <td>0</td>\n",
              "      <td>1</td>\n",
              "      <td>161</td>\n",
              "      <td>0</td>\n",
              "      <td>0.0</td>\n",
              "      <td>2</td>\n",
              "      <td>1</td>\n",
              "      <td>3</td>\n",
              "      <td>0</td>\n",
              "      <td>old</td>\n",
              "    </tr>\n",
              "    <tr>\n",
              "      <th>4</th>\n",
              "      <td>62</td>\n",
              "      <td>0</td>\n",
              "      <td>0</td>\n",
              "      <td>138</td>\n",
              "      <td>294</td>\n",
              "      <td>1</td>\n",
              "      <td>1</td>\n",
              "      <td>106</td>\n",
              "      <td>0</td>\n",
              "      <td>1.9</td>\n",
              "      <td>1</td>\n",
              "      <td>3</td>\n",
              "      <td>2</td>\n",
              "      <td>0</td>\n",
              "      <td>old</td>\n",
              "    </tr>\n",
              "    <tr>\n",
              "      <th>...</th>\n",
              "      <td>...</td>\n",
              "      <td>...</td>\n",
              "      <td>...</td>\n",
              "      <td>...</td>\n",
              "      <td>...</td>\n",
              "      <td>...</td>\n",
              "      <td>...</td>\n",
              "      <td>...</td>\n",
              "      <td>...</td>\n",
              "      <td>...</td>\n",
              "      <td>...</td>\n",
              "      <td>...</td>\n",
              "      <td>...</td>\n",
              "      <td>...</td>\n",
              "      <td>...</td>\n",
              "    </tr>\n",
              "    <tr>\n",
              "      <th>723</th>\n",
              "      <td>68</td>\n",
              "      <td>0</td>\n",
              "      <td>2</td>\n",
              "      <td>120</td>\n",
              "      <td>211</td>\n",
              "      <td>0</td>\n",
              "      <td>0</td>\n",
              "      <td>115</td>\n",
              "      <td>0</td>\n",
              "      <td>1.5</td>\n",
              "      <td>1</td>\n",
              "      <td>0</td>\n",
              "      <td>2</td>\n",
              "      <td>1</td>\n",
              "      <td>old</td>\n",
              "    </tr>\n",
              "    <tr>\n",
              "      <th>733</th>\n",
              "      <td>44</td>\n",
              "      <td>0</td>\n",
              "      <td>2</td>\n",
              "      <td>108</td>\n",
              "      <td>141</td>\n",
              "      <td>0</td>\n",
              "      <td>1</td>\n",
              "      <td>175</td>\n",
              "      <td>0</td>\n",
              "      <td>0.6</td>\n",
              "      <td>1</td>\n",
              "      <td>0</td>\n",
              "      <td>2</td>\n",
              "      <td>1</td>\n",
              "      <td>middle-aged</td>\n",
              "    </tr>\n",
              "    <tr>\n",
              "      <th>739</th>\n",
              "      <td>52</td>\n",
              "      <td>1</td>\n",
              "      <td>0</td>\n",
              "      <td>128</td>\n",
              "      <td>255</td>\n",
              "      <td>0</td>\n",
              "      <td>1</td>\n",
              "      <td>161</td>\n",
              "      <td>1</td>\n",
              "      <td>0.0</td>\n",
              "      <td>2</td>\n",
              "      <td>1</td>\n",
              "      <td>3</td>\n",
              "      <td>0</td>\n",
              "      <td>middle-aged</td>\n",
              "    </tr>\n",
              "    <tr>\n",
              "      <th>843</th>\n",
              "      <td>59</td>\n",
              "      <td>1</td>\n",
              "      <td>3</td>\n",
              "      <td>160</td>\n",
              "      <td>273</td>\n",
              "      <td>0</td>\n",
              "      <td>0</td>\n",
              "      <td>125</td>\n",
              "      <td>0</td>\n",
              "      <td>0.0</td>\n",
              "      <td>2</td>\n",
              "      <td>0</td>\n",
              "      <td>2</td>\n",
              "      <td>0</td>\n",
              "      <td>old</td>\n",
              "    </tr>\n",
              "    <tr>\n",
              "      <th>878</th>\n",
              "      <td>54</td>\n",
              "      <td>1</td>\n",
              "      <td>0</td>\n",
              "      <td>120</td>\n",
              "      <td>188</td>\n",
              "      <td>0</td>\n",
              "      <td>1</td>\n",
              "      <td>113</td>\n",
              "      <td>0</td>\n",
              "      <td>1.4</td>\n",
              "      <td>1</td>\n",
              "      <td>1</td>\n",
              "      <td>3</td>\n",
              "      <td>0</td>\n",
              "      <td>middle-aged</td>\n",
              "    </tr>\n",
              "  </tbody>\n",
              "</table>\n",
              "<p>284 rows × 15 columns</p>\n",
              "</div>\n",
              "      <button class=\"colab-df-convert\" onclick=\"convertToInteractive('df-c4d44861-5823-4448-a5b0-a87364dbcec8')\"\n",
              "              title=\"Convert this dataframe to an interactive table.\"\n",
              "              style=\"display:none;\">\n",
              "        \n",
              "  <svg xmlns=\"http://www.w3.org/2000/svg\" height=\"24px\"viewBox=\"0 0 24 24\"\n",
              "       width=\"24px\">\n",
              "    <path d=\"M0 0h24v24H0V0z\" fill=\"none\"/>\n",
              "    <path d=\"M18.56 5.44l.94 2.06.94-2.06 2.06-.94-2.06-.94-.94-2.06-.94 2.06-2.06.94zm-11 1L8.5 8.5l.94-2.06 2.06-.94-2.06-.94L8.5 2.5l-.94 2.06-2.06.94zm10 10l.94 2.06.94-2.06 2.06-.94-2.06-.94-.94-2.06-.94 2.06-2.06.94z\"/><path d=\"M17.41 7.96l-1.37-1.37c-.4-.4-.92-.59-1.43-.59-.52 0-1.04.2-1.43.59L10.3 9.45l-7.72 7.72c-.78.78-.78 2.05 0 2.83L4 21.41c.39.39.9.59 1.41.59.51 0 1.02-.2 1.41-.59l7.78-7.78 2.81-2.81c.8-.78.8-2.07 0-2.86zM5.41 20L4 18.59l7.72-7.72 1.47 1.35L5.41 20z\"/>\n",
              "  </svg>\n",
              "      </button>\n",
              "      \n",
              "  <style>\n",
              "    .colab-df-container {\n",
              "      display:flex;\n",
              "      flex-wrap:wrap;\n",
              "      gap: 12px;\n",
              "    }\n",
              "\n",
              "    .colab-df-convert {\n",
              "      background-color: #E8F0FE;\n",
              "      border: none;\n",
              "      border-radius: 50%;\n",
              "      cursor: pointer;\n",
              "      display: none;\n",
              "      fill: #1967D2;\n",
              "      height: 32px;\n",
              "      padding: 0 0 0 0;\n",
              "      width: 32px;\n",
              "    }\n",
              "\n",
              "    .colab-df-convert:hover {\n",
              "      background-color: #E2EBFA;\n",
              "      box-shadow: 0px 1px 2px rgba(60, 64, 67, 0.3), 0px 1px 3px 1px rgba(60, 64, 67, 0.15);\n",
              "      fill: #174EA6;\n",
              "    }\n",
              "\n",
              "    [theme=dark] .colab-df-convert {\n",
              "      background-color: #3B4455;\n",
              "      fill: #D2E3FC;\n",
              "    }\n",
              "\n",
              "    [theme=dark] .colab-df-convert:hover {\n",
              "      background-color: #434B5C;\n",
              "      box-shadow: 0px 1px 3px 1px rgba(0, 0, 0, 0.15);\n",
              "      filter: drop-shadow(0px 1px 2px rgba(0, 0, 0, 0.3));\n",
              "      fill: #FFFFFF;\n",
              "    }\n",
              "  </style>\n",
              "\n",
              "      <script>\n",
              "        const buttonEl =\n",
              "          document.querySelector('#df-c4d44861-5823-4448-a5b0-a87364dbcec8 button.colab-df-convert');\n",
              "        buttonEl.style.display =\n",
              "          google.colab.kernel.accessAllowed ? 'block' : 'none';\n",
              "\n",
              "        async function convertToInteractive(key) {\n",
              "          const element = document.querySelector('#df-c4d44861-5823-4448-a5b0-a87364dbcec8');\n",
              "          const dataTable =\n",
              "            await google.colab.kernel.invokeFunction('convertToInteractive',\n",
              "                                                     [key], {});\n",
              "          if (!dataTable) return;\n",
              "\n",
              "          const docLinkHtml = 'Like what you see? Visit the ' +\n",
              "            '<a target=\"_blank\" href=https://colab.research.google.com/notebooks/data_table.ipynb>data table notebook</a>'\n",
              "            + ' to learn more about interactive tables.';\n",
              "          element.innerHTML = '';\n",
              "          dataTable['output_type'] = 'display_data';\n",
              "          await google.colab.output.renderOutput(dataTable, element);\n",
              "          const docLink = document.createElement('div');\n",
              "          docLink.innerHTML = docLinkHtml;\n",
              "          element.appendChild(docLink);\n",
              "        }\n",
              "      </script>\n",
              "    </div>\n",
              "  </div>\n",
              "  "
            ]
          },
          "metadata": {},
          "execution_count": 33
        }
      ],
      "source": [
        "df"
      ]
    },
    {
      "cell_type": "markdown",
      "metadata": {
        "id": "GIVP8n2TSqk4"
      },
      "source": [
        "### 8. Automate EDA through Dataprep, Autovis, Dtale, etc."
      ]
    },
    {
      "cell_type": "code",
      "execution_count": 34,
      "metadata": {
        "id": "AzUp7gUhcmRQ"
      },
      "outputs": [],
      "source": [
        "# !pip install pandas-profiling"
      ]
    },
    {
      "cell_type": "code",
      "execution_count": 35,
      "metadata": {
        "id": "k9dlQBB7cxL1"
      },
      "outputs": [],
      "source": [
        "# from pandas_profiling import ProfileReport\n",
        "# prof = ProfileReport(df)\n",
        "# prof.to_file(output_file='output.html')\n",
        "# prof.to_widgets()"
      ]
    },
    {
      "cell_type": "markdown",
      "source": [
        "![image.png](data:image/png;base64,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)"
      ],
      "metadata": {
        "id": "7vyQqQNMQ4V8"
      }
    },
    {
      "cell_type": "markdown",
      "source": [
        "1. Create the hypothesis from the models you will create. \n",
        "2. Choose at least 2 models from the live session (or any other you know) and justify why you think it would be beneficial for you to choose the model for the dataset. \n",
        "3. Do cross validation and bootstrapping\n",
        "4. Create at least 2 models\n",
        "5. List the model evaluation you would use to apply in the project and its justification, and evaluate the models you have created. \n",
        "6. List the feature importance from the models you have created and derive insights relating to the feature importance. "
      ],
      "metadata": {
        "id": "9XxvcOeZIBCj"
      }
    },
    {
      "cell_type": "markdown",
      "source": [
        "Hipotesis pada model machine learning merupakan suatu asumsi awal atau dugaan yang dibuat oleh pengguna model terkait hubungan antara variabel input dan output pada data yang akan dipelajari."
      ],
      "metadata": {
        "id": "p6bjgj9Mbdhu"
      }
    },
    {
      "cell_type": "markdown",
      "source": [
        "## Machine Learning Model"
      ],
      "metadata": {
        "id": "-e2L0nRPe2WU"
      }
    },
    {
      "cell_type": "markdown",
      "source": [
        "### Create the hypothesis from the models you will create."
      ],
      "metadata": {
        "id": "HH-m7FXobhmo"
      }
    },
    {
      "cell_type": "markdown",
      "source": [
        "H0: Tidak ada pengaruh usia pasien dengan resiko terkena penyakit jantung.\n",
        "\n",
        "H1: Terdapat pengaruh usia pasien dengan resiko terkena penyakit jantung."
      ],
      "metadata": {
        "id": "cQW6Mgdibzz9"
      }
    },
    {
      "cell_type": "markdown",
      "source": [
        "### Choose at least 2 models from the live session (or any other you know) and justify why you think it would be beneficial for you to choose the model for the dataset."
      ],
      "metadata": {
        "id": "X5SXvvVjexV1"
      }
    },
    {
      "cell_type": "markdown",
      "source": [
        "1. Random Forest Classifier\n",
        "2. Decision Tree Classifier\n",
        "\n",
        "Saya memilih model ini karena saya sudah pernah membaca dan menggunakan model ini, selain itu metode random forest dan decision tree merupakan model yang saling berkaitan sehingga akan menarik untuk membandingkan hasil dari keduanya. Lalu pada Decision Tree sangat cocok dengan dataset yang memiliki variabel diskrit atau kategorikal"
      ],
      "metadata": {
        "id": "miJEBQHilPkW"
      }
    },
    {
      "cell_type": "markdown",
      "source": [
        "#### Separating Dependent and Independent Variables"
      ],
      "metadata": {
        "id": "cmv0BP5iHX2m"
      }
    },
    {
      "cell_type": "code",
      "source": [
        "df.drop('age_category', axis=1, inplace=True)\n",
        "X = df.drop('target', axis=1)\n",
        "y = df['target']"
      ],
      "metadata": {
        "id": "WKUmVxb2HwP1"
      },
      "execution_count": 36,
      "outputs": []
    },
    {
      "cell_type": "markdown",
      "metadata": {
        "id": "YVFq8tVjJo9M"
      },
      "source": [
        "### Univariate Selection For categorical Variable"
      ]
    },
    {
      "cell_type": "code",
      "source": [
        "from sklearn.feature_selection import SelectKBest\n",
        "from sklearn.feature_selection import chi2"
      ],
      "metadata": {
        "id": "U9rSnJGTPCuB"
      },
      "execution_count": 37,
      "outputs": []
    },
    {
      "cell_type": "code",
      "execution_count": 38,
      "metadata": {
        "id": "dQOPdaZ8Jo9M"
      },
      "outputs": [],
      "source": [
        "bestfeatures = SelectKBest(score_func=chi2)"
      ]
    },
    {
      "cell_type": "code",
      "execution_count": 39,
      "metadata": {
        "id": "6Q7pb3t-Jo9M"
      },
      "outputs": [],
      "source": [
        "fit = bestfeatures.fit(X,y)\n",
        "scores = pd.DataFrame(fit.scores_)"
      ]
    },
    {
      "cell_type": "code",
      "execution_count": 40,
      "metadata": {
        "id": "DcMB9DcEJo9N"
      },
      "outputs": [],
      "source": [
        "dfcolumns = pd.DataFrame(X.columns)"
      ]
    },
    {
      "cell_type": "code",
      "execution_count": 41,
      "metadata": {
        "id": "XhnESKAPJo9N"
      },
      "outputs": [],
      "source": [
        "featureScores = pd.concat([dfcolumns,scores],axis=1)\n",
        "featureScores.columns = ['Label','Score'] "
      ]
    },
    {
      "cell_type": "code",
      "execution_count": 42,
      "metadata": {
        "id": "d98KbJw8Jo9N",
        "outputId": "7424f3ac-a34e-4804-d0f4-723bda4eae51",
        "colab": {
          "base_uri": "https://localhost:8080/",
          "height": 457
        }
      },
      "outputs": [
        {
          "output_type": "execute_result",
          "data": {
            "text/plain": [
              "       Label       Score\n",
              "7    thalach  183.893539\n",
              "11        ca   61.306384\n",
              "9    oldpeak   58.591152\n",
              "2         cp   53.647611\n",
              "8      exang   35.470265\n",
              "4       chol   25.548353\n",
              "0        age   22.488556\n",
              "1        sex    8.733118\n",
              "10     slope    7.666258\n",
              "3   trestbps    6.544988\n",
              "12      thal    5.493147\n",
              "6    restecg    3.984720\n",
              "5        fbs    0.159152"
            ],
            "text/html": [
              "\n",
              "  <div id=\"df-089e0523-df8f-4dfc-970b-d94e34aaa406\">\n",
              "    <div class=\"colab-df-container\">\n",
              "      <div>\n",
              "<style scoped>\n",
              "    .dataframe tbody tr th:only-of-type {\n",
              "        vertical-align: middle;\n",
              "    }\n",
              "\n",
              "    .dataframe tbody tr th {\n",
              "        vertical-align: top;\n",
              "    }\n",
              "\n",
              "    .dataframe thead th {\n",
              "        text-align: right;\n",
              "    }\n",
              "</style>\n",
              "<table border=\"1\" class=\"dataframe\">\n",
              "  <thead>\n",
              "    <tr style=\"text-align: right;\">\n",
              "      <th></th>\n",
              "      <th>Label</th>\n",
              "      <th>Score</th>\n",
              "    </tr>\n",
              "  </thead>\n",
              "  <tbody>\n",
              "    <tr>\n",
              "      <th>7</th>\n",
              "      <td>thalach</td>\n",
              "      <td>183.893539</td>\n",
              "    </tr>\n",
              "    <tr>\n",
              "      <th>11</th>\n",
              "      <td>ca</td>\n",
              "      <td>61.306384</td>\n",
              "    </tr>\n",
              "    <tr>\n",
              "      <th>9</th>\n",
              "      <td>oldpeak</td>\n",
              "      <td>58.591152</td>\n",
              "    </tr>\n",
              "    <tr>\n",
              "      <th>2</th>\n",
              "      <td>cp</td>\n",
              "      <td>53.647611</td>\n",
              "    </tr>\n",
              "    <tr>\n",
              "      <th>8</th>\n",
              "      <td>exang</td>\n",
              "      <td>35.470265</td>\n",
              "    </tr>\n",
              "    <tr>\n",
              "      <th>4</th>\n",
              "      <td>chol</td>\n",
              "      <td>25.548353</td>\n",
              "    </tr>\n",
              "    <tr>\n",
              "      <th>0</th>\n",
              "      <td>age</td>\n",
              "      <td>22.488556</td>\n",
              "    </tr>\n",
              "    <tr>\n",
              "      <th>1</th>\n",
              "      <td>sex</td>\n",
              "      <td>8.733118</td>\n",
              "    </tr>\n",
              "    <tr>\n",
              "      <th>10</th>\n",
              "      <td>slope</td>\n",
              "      <td>7.666258</td>\n",
              "    </tr>\n",
              "    <tr>\n",
              "      <th>3</th>\n",
              "      <td>trestbps</td>\n",
              "      <td>6.544988</td>\n",
              "    </tr>\n",
              "    <tr>\n",
              "      <th>12</th>\n",
              "      <td>thal</td>\n",
              "      <td>5.493147</td>\n",
              "    </tr>\n",
              "    <tr>\n",
              "      <th>6</th>\n",
              "      <td>restecg</td>\n",
              "      <td>3.984720</td>\n",
              "    </tr>\n",
              "    <tr>\n",
              "      <th>5</th>\n",
              "      <td>fbs</td>\n",
              "      <td>0.159152</td>\n",
              "    </tr>\n",
              "  </tbody>\n",
              "</table>\n",
              "</div>\n",
              "      <button class=\"colab-df-convert\" onclick=\"convertToInteractive('df-089e0523-df8f-4dfc-970b-d94e34aaa406')\"\n",
              "              title=\"Convert this dataframe to an interactive table.\"\n",
              "              style=\"display:none;\">\n",
              "        \n",
              "  <svg xmlns=\"http://www.w3.org/2000/svg\" height=\"24px\"viewBox=\"0 0 24 24\"\n",
              "       width=\"24px\">\n",
              "    <path d=\"M0 0h24v24H0V0z\" fill=\"none\"/>\n",
              "    <path d=\"M18.56 5.44l.94 2.06.94-2.06 2.06-.94-2.06-.94-.94-2.06-.94 2.06-2.06.94zm-11 1L8.5 8.5l.94-2.06 2.06-.94-2.06-.94L8.5 2.5l-.94 2.06-2.06.94zm10 10l.94 2.06.94-2.06 2.06-.94-2.06-.94-.94-2.06-.94 2.06-2.06.94z\"/><path d=\"M17.41 7.96l-1.37-1.37c-.4-.4-.92-.59-1.43-.59-.52 0-1.04.2-1.43.59L10.3 9.45l-7.72 7.72c-.78.78-.78 2.05 0 2.83L4 21.41c.39.39.9.59 1.41.59.51 0 1.02-.2 1.41-.59l7.78-7.78 2.81-2.81c.8-.78.8-2.07 0-2.86zM5.41 20L4 18.59l7.72-7.72 1.47 1.35L5.41 20z\"/>\n",
              "  </svg>\n",
              "      </button>\n",
              "      \n",
              "  <style>\n",
              "    .colab-df-container {\n",
              "      display:flex;\n",
              "      flex-wrap:wrap;\n",
              "      gap: 12px;\n",
              "    }\n",
              "\n",
              "    .colab-df-convert {\n",
              "      background-color: #E8F0FE;\n",
              "      border: none;\n",
              "      border-radius: 50%;\n",
              "      cursor: pointer;\n",
              "      display: none;\n",
              "      fill: #1967D2;\n",
              "      height: 32px;\n",
              "      padding: 0 0 0 0;\n",
              "      width: 32px;\n",
              "    }\n",
              "\n",
              "    .colab-df-convert:hover {\n",
              "      background-color: #E2EBFA;\n",
              "      box-shadow: 0px 1px 2px rgba(60, 64, 67, 0.3), 0px 1px 3px 1px rgba(60, 64, 67, 0.15);\n",
              "      fill: #174EA6;\n",
              "    }\n",
              "\n",
              "    [theme=dark] .colab-df-convert {\n",
              "      background-color: #3B4455;\n",
              "      fill: #D2E3FC;\n",
              "    }\n",
              "\n",
              "    [theme=dark] .colab-df-convert:hover {\n",
              "      background-color: #434B5C;\n",
              "      box-shadow: 0px 1px 3px 1px rgba(0, 0, 0, 0.15);\n",
              "      filter: drop-shadow(0px 1px 2px rgba(0, 0, 0, 0.3));\n",
              "      fill: #FFFFFF;\n",
              "    }\n",
              "  </style>\n",
              "\n",
              "      <script>\n",
              "        const buttonEl =\n",
              "          document.querySelector('#df-089e0523-df8f-4dfc-970b-d94e34aaa406 button.colab-df-convert');\n",
              "        buttonEl.style.display =\n",
              "          google.colab.kernel.accessAllowed ? 'block' : 'none';\n",
              "\n",
              "        async function convertToInteractive(key) {\n",
              "          const element = document.querySelector('#df-089e0523-df8f-4dfc-970b-d94e34aaa406');\n",
              "          const dataTable =\n",
              "            await google.colab.kernel.invokeFunction('convertToInteractive',\n",
              "                                                     [key], {});\n",
              "          if (!dataTable) return;\n",
              "\n",
              "          const docLinkHtml = 'Like what you see? Visit the ' +\n",
              "            '<a target=\"_blank\" href=https://colab.research.google.com/notebooks/data_table.ipynb>data table notebook</a>'\n",
              "            + ' to learn more about interactive tables.';\n",
              "          element.innerHTML = '';\n",
              "          dataTable['output_type'] = 'display_data';\n",
              "          await google.colab.output.renderOutput(dataTable, element);\n",
              "          const docLink = document.createElement('div');\n",
              "          docLink.innerHTML = docLinkHtml;\n",
              "          element.appendChild(docLink);\n",
              "        }\n",
              "      </script>\n",
              "    </div>\n",
              "  </div>\n",
              "  "
            ]
          },
          "metadata": {},
          "execution_count": 42
        }
      ],
      "source": [
        "featureScores.sort_values(by='Score',ascending=False)"
      ]
    },
    {
      "cell_type": "markdown",
      "metadata": {
        "id": "zEQn975WJo9Q"
      },
      "source": [
        "### Droping the features which are not correlated"
      ]
    },
    {
      "cell_type": "code",
      "execution_count": 43,
      "metadata": {
        "id": "lAyWjq-AJo9Q"
      },
      "outputs": [],
      "source": [
        "df.drop(['fbs','restecg'],axis=1,inplace=True)"
      ]
    },
    {
      "cell_type": "code",
      "execution_count": 44,
      "metadata": {
        "id": "gX9TxukoJo9R",
        "outputId": "8b7b146b-3095-401a-94bc-da061c25b665",
        "colab": {
          "base_uri": "https://localhost:8080/",
          "height": 206
        }
      },
      "outputs": [
        {
          "output_type": "execute_result",
          "data": {
            "text/plain": [
              "   age  sex  cp  trestbps  chol  thalach  exang  oldpeak  slope  ca  thal  \\\n",
              "0   52    1   0       125   212      168      0      1.0      2   2     3   \n",
              "1   53    1   0       140   203      155      1      3.1      0   0     3   \n",
              "2   70    1   0       145   174      125      1      2.6      0   0     3   \n",
              "3   61    1   0       148   203      161      0      0.0      2   1     3   \n",
              "4   62    0   0       138   294      106      0      1.9      1   3     2   \n",
              "\n",
              "   target  \n",
              "0       0  \n",
              "1       0  \n",
              "2       0  \n",
              "3       0  \n",
              "4       0  "
            ],
            "text/html": [
              "\n",
              "  <div id=\"df-f715990b-f8d9-40e1-90bc-a01535e0a005\">\n",
              "    <div class=\"colab-df-container\">\n",
              "      <div>\n",
              "<style scoped>\n",
              "    .dataframe tbody tr th:only-of-type {\n",
              "        vertical-align: middle;\n",
              "    }\n",
              "\n",
              "    .dataframe tbody tr th {\n",
              "        vertical-align: top;\n",
              "    }\n",
              "\n",
              "    .dataframe thead th {\n",
              "        text-align: right;\n",
              "    }\n",
              "</style>\n",
              "<table border=\"1\" class=\"dataframe\">\n",
              "  <thead>\n",
              "    <tr style=\"text-align: right;\">\n",
              "      <th></th>\n",
              "      <th>age</th>\n",
              "      <th>sex</th>\n",
              "      <th>cp</th>\n",
              "      <th>trestbps</th>\n",
              "      <th>chol</th>\n",
              "      <th>thalach</th>\n",
              "      <th>exang</th>\n",
              "      <th>oldpeak</th>\n",
              "      <th>slope</th>\n",
              "      <th>ca</th>\n",
              "      <th>thal</th>\n",
              "      <th>target</th>\n",
              "    </tr>\n",
              "  </thead>\n",
              "  <tbody>\n",
              "    <tr>\n",
              "      <th>0</th>\n",
              "      <td>52</td>\n",
              "      <td>1</td>\n",
              "      <td>0</td>\n",
              "      <td>125</td>\n",
              "      <td>212</td>\n",
              "      <td>168</td>\n",
              "      <td>0</td>\n",
              "      <td>1.0</td>\n",
              "      <td>2</td>\n",
              "      <td>2</td>\n",
              "      <td>3</td>\n",
              "      <td>0</td>\n",
              "    </tr>\n",
              "    <tr>\n",
              "      <th>1</th>\n",
              "      <td>53</td>\n",
              "      <td>1</td>\n",
              "      <td>0</td>\n",
              "      <td>140</td>\n",
              "      <td>203</td>\n",
              "      <td>155</td>\n",
              "      <td>1</td>\n",
              "      <td>3.1</td>\n",
              "      <td>0</td>\n",
              "      <td>0</td>\n",
              "      <td>3</td>\n",
              "      <td>0</td>\n",
              "    </tr>\n",
              "    <tr>\n",
              "      <th>2</th>\n",
              "      <td>70</td>\n",
              "      <td>1</td>\n",
              "      <td>0</td>\n",
              "      <td>145</td>\n",
              "      <td>174</td>\n",
              "      <td>125</td>\n",
              "      <td>1</td>\n",
              "      <td>2.6</td>\n",
              "      <td>0</td>\n",
              "      <td>0</td>\n",
              "      <td>3</td>\n",
              "      <td>0</td>\n",
              "    </tr>\n",
              "    <tr>\n",
              "      <th>3</th>\n",
              "      <td>61</td>\n",
              "      <td>1</td>\n",
              "      <td>0</td>\n",
              "      <td>148</td>\n",
              "      <td>203</td>\n",
              "      <td>161</td>\n",
              "      <td>0</td>\n",
              "      <td>0.0</td>\n",
              "      <td>2</td>\n",
              "      <td>1</td>\n",
              "      <td>3</td>\n",
              "      <td>0</td>\n",
              "    </tr>\n",
              "    <tr>\n",
              "      <th>4</th>\n",
              "      <td>62</td>\n",
              "      <td>0</td>\n",
              "      <td>0</td>\n",
              "      <td>138</td>\n",
              "      <td>294</td>\n",
              "      <td>106</td>\n",
              "      <td>0</td>\n",
              "      <td>1.9</td>\n",
              "      <td>1</td>\n",
              "      <td>3</td>\n",
              "      <td>2</td>\n",
              "      <td>0</td>\n",
              "    </tr>\n",
              "  </tbody>\n",
              "</table>\n",
              "</div>\n",
              "      <button class=\"colab-df-convert\" onclick=\"convertToInteractive('df-f715990b-f8d9-40e1-90bc-a01535e0a005')\"\n",
              "              title=\"Convert this dataframe to an interactive table.\"\n",
              "              style=\"display:none;\">\n",
              "        \n",
              "  <svg xmlns=\"http://www.w3.org/2000/svg\" height=\"24px\"viewBox=\"0 0 24 24\"\n",
              "       width=\"24px\">\n",
              "    <path d=\"M0 0h24v24H0V0z\" fill=\"none\"/>\n",
              "    <path d=\"M18.56 5.44l.94 2.06.94-2.06 2.06-.94-2.06-.94-.94-2.06-.94 2.06-2.06.94zm-11 1L8.5 8.5l.94-2.06 2.06-.94-2.06-.94L8.5 2.5l-.94 2.06-2.06.94zm10 10l.94 2.06.94-2.06 2.06-.94-2.06-.94-.94-2.06-.94 2.06-2.06.94z\"/><path d=\"M17.41 7.96l-1.37-1.37c-.4-.4-.92-.59-1.43-.59-.52 0-1.04.2-1.43.59L10.3 9.45l-7.72 7.72c-.78.78-.78 2.05 0 2.83L4 21.41c.39.39.9.59 1.41.59.51 0 1.02-.2 1.41-.59l7.78-7.78 2.81-2.81c.8-.78.8-2.07 0-2.86zM5.41 20L4 18.59l7.72-7.72 1.47 1.35L5.41 20z\"/>\n",
              "  </svg>\n",
              "      </button>\n",
              "      \n",
              "  <style>\n",
              "    .colab-df-container {\n",
              "      display:flex;\n",
              "      flex-wrap:wrap;\n",
              "      gap: 12px;\n",
              "    }\n",
              "\n",
              "    .colab-df-convert {\n",
              "      background-color: #E8F0FE;\n",
              "      border: none;\n",
              "      border-radius: 50%;\n",
              "      cursor: pointer;\n",
              "      display: none;\n",
              "      fill: #1967D2;\n",
              "      height: 32px;\n",
              "      padding: 0 0 0 0;\n",
              "      width: 32px;\n",
              "    }\n",
              "\n",
              "    .colab-df-convert:hover {\n",
              "      background-color: #E2EBFA;\n",
              "      box-shadow: 0px 1px 2px rgba(60, 64, 67, 0.3), 0px 1px 3px 1px rgba(60, 64, 67, 0.15);\n",
              "      fill: #174EA6;\n",
              "    }\n",
              "\n",
              "    [theme=dark] .colab-df-convert {\n",
              "      background-color: #3B4455;\n",
              "      fill: #D2E3FC;\n",
              "    }\n",
              "\n",
              "    [theme=dark] .colab-df-convert:hover {\n",
              "      background-color: #434B5C;\n",
              "      box-shadow: 0px 1px 3px 1px rgba(0, 0, 0, 0.15);\n",
              "      filter: drop-shadow(0px 1px 2px rgba(0, 0, 0, 0.3));\n",
              "      fill: #FFFFFF;\n",
              "    }\n",
              "  </style>\n",
              "\n",
              "      <script>\n",
              "        const buttonEl =\n",
              "          document.querySelector('#df-f715990b-f8d9-40e1-90bc-a01535e0a005 button.colab-df-convert');\n",
              "        buttonEl.style.display =\n",
              "          google.colab.kernel.accessAllowed ? 'block' : 'none';\n",
              "\n",
              "        async function convertToInteractive(key) {\n",
              "          const element = document.querySelector('#df-f715990b-f8d9-40e1-90bc-a01535e0a005');\n",
              "          const dataTable =\n",
              "            await google.colab.kernel.invokeFunction('convertToInteractive',\n",
              "                                                     [key], {});\n",
              "          if (!dataTable) return;\n",
              "\n",
              "          const docLinkHtml = 'Like what you see? Visit the ' +\n",
              "            '<a target=\"_blank\" href=https://colab.research.google.com/notebooks/data_table.ipynb>data table notebook</a>'\n",
              "            + ' to learn more about interactive tables.';\n",
              "          element.innerHTML = '';\n",
              "          dataTable['output_type'] = 'display_data';\n",
              "          await google.colab.output.renderOutput(dataTable, element);\n",
              "          const docLink = document.createElement('div');\n",
              "          docLink.innerHTML = docLinkHtml;\n",
              "          element.appendChild(docLink);\n",
              "        }\n",
              "      </script>\n",
              "    </div>\n",
              "  </div>\n",
              "  "
            ]
          },
          "metadata": {},
          "execution_count": 44
        }
      ],
      "source": [
        "df.head()"
      ]
    },
    {
      "cell_type": "code",
      "execution_count": 45,
      "metadata": {
        "id": "aAjJs98EJo9R",
        "outputId": "c6bcc4ba-5148-484b-bfb9-5419a0723302",
        "colab": {
          "base_uri": "https://localhost:8080/"
        }
      },
      "outputs": [
        {
          "output_type": "execute_result",
          "data": {
            "text/plain": [
              "(284, 12)"
            ]
          },
          "metadata": {},
          "execution_count": 45
        }
      ],
      "source": [
        "df.shape"
      ]
    },
    {
      "cell_type": "markdown",
      "source": [
        "### Create 2 models"
      ],
      "metadata": {
        "id": "YQmfYnQ2F4aC"
      }
    },
    {
      "cell_type": "markdown",
      "source": [
        "#### Scalling the Data"
      ],
      "metadata": {
        "id": "apeEzWASG5Mi"
      }
    },
    {
      "cell_type": "code",
      "source": [
        "df.head(2)"
      ],
      "metadata": {
        "colab": {
          "base_uri": "https://localhost:8080/",
          "height": 112
        },
        "id": "0yA3oCGzHFEL",
        "outputId": "0df7f262-a6e0-4377-bf87-632e9cb61f31"
      },
      "execution_count": 46,
      "outputs": [
        {
          "output_type": "execute_result",
          "data": {
            "text/plain": [
              "   age  sex  cp  trestbps  chol  thalach  exang  oldpeak  slope  ca  thal  \\\n",
              "0   52    1   0       125   212      168      0      1.0      2   2     3   \n",
              "1   53    1   0       140   203      155      1      3.1      0   0     3   \n",
              "\n",
              "   target  \n",
              "0       0  \n",
              "1       0  "
            ],
            "text/html": [
              "\n",
              "  <div id=\"df-cbcdc004-b271-441d-8372-eb87b71f3767\">\n",
              "    <div class=\"colab-df-container\">\n",
              "      <div>\n",
              "<style scoped>\n",
              "    .dataframe tbody tr th:only-of-type {\n",
              "        vertical-align: middle;\n",
              "    }\n",
              "\n",
              "    .dataframe tbody tr th {\n",
              "        vertical-align: top;\n",
              "    }\n",
              "\n",
              "    .dataframe thead th {\n",
              "        text-align: right;\n",
              "    }\n",
              "</style>\n",
              "<table border=\"1\" class=\"dataframe\">\n",
              "  <thead>\n",
              "    <tr style=\"text-align: right;\">\n",
              "      <th></th>\n",
              "      <th>age</th>\n",
              "      <th>sex</th>\n",
              "      <th>cp</th>\n",
              "      <th>trestbps</th>\n",
              "      <th>chol</th>\n",
              "      <th>thalach</th>\n",
              "      <th>exang</th>\n",
              "      <th>oldpeak</th>\n",
              "      <th>slope</th>\n",
              "      <th>ca</th>\n",
              "      <th>thal</th>\n",
              "      <th>target</th>\n",
              "    </tr>\n",
              "  </thead>\n",
              "  <tbody>\n",
              "    <tr>\n",
              "      <th>0</th>\n",
              "      <td>52</td>\n",
              "      <td>1</td>\n",
              "      <td>0</td>\n",
              "      <td>125</td>\n",
              "      <td>212</td>\n",
              "      <td>168</td>\n",
              "      <td>0</td>\n",
              "      <td>1.0</td>\n",
              "      <td>2</td>\n",
              "      <td>2</td>\n",
              "      <td>3</td>\n",
              "      <td>0</td>\n",
              "    </tr>\n",
              "    <tr>\n",
              "      <th>1</th>\n",
              "      <td>53</td>\n",
              "      <td>1</td>\n",
              "      <td>0</td>\n",
              "      <td>140</td>\n",
              "      <td>203</td>\n",
              "      <td>155</td>\n",
              "      <td>1</td>\n",
              "      <td>3.1</td>\n",
              "      <td>0</td>\n",
              "      <td>0</td>\n",
              "      <td>3</td>\n",
              "      <td>0</td>\n",
              "    </tr>\n",
              "  </tbody>\n",
              "</table>\n",
              "</div>\n",
              "      <button class=\"colab-df-convert\" onclick=\"convertToInteractive('df-cbcdc004-b271-441d-8372-eb87b71f3767')\"\n",
              "              title=\"Convert this dataframe to an interactive table.\"\n",
              "              style=\"display:none;\">\n",
              "        \n",
              "  <svg xmlns=\"http://www.w3.org/2000/svg\" height=\"24px\"viewBox=\"0 0 24 24\"\n",
              "       width=\"24px\">\n",
              "    <path d=\"M0 0h24v24H0V0z\" fill=\"none\"/>\n",
              "    <path d=\"M18.56 5.44l.94 2.06.94-2.06 2.06-.94-2.06-.94-.94-2.06-.94 2.06-2.06.94zm-11 1L8.5 8.5l.94-2.06 2.06-.94-2.06-.94L8.5 2.5l-.94 2.06-2.06.94zm10 10l.94 2.06.94-2.06 2.06-.94-2.06-.94-.94-2.06-.94 2.06-2.06.94z\"/><path d=\"M17.41 7.96l-1.37-1.37c-.4-.4-.92-.59-1.43-.59-.52 0-1.04.2-1.43.59L10.3 9.45l-7.72 7.72c-.78.78-.78 2.05 0 2.83L4 21.41c.39.39.9.59 1.41.59.51 0 1.02-.2 1.41-.59l7.78-7.78 2.81-2.81c.8-.78.8-2.07 0-2.86zM5.41 20L4 18.59l7.72-7.72 1.47 1.35L5.41 20z\"/>\n",
              "  </svg>\n",
              "      </button>\n",
              "      \n",
              "  <style>\n",
              "    .colab-df-container {\n",
              "      display:flex;\n",
              "      flex-wrap:wrap;\n",
              "      gap: 12px;\n",
              "    }\n",
              "\n",
              "    .colab-df-convert {\n",
              "      background-color: #E8F0FE;\n",
              "      border: none;\n",
              "      border-radius: 50%;\n",
              "      cursor: pointer;\n",
              "      display: none;\n",
              "      fill: #1967D2;\n",
              "      height: 32px;\n",
              "      padding: 0 0 0 0;\n",
              "      width: 32px;\n",
              "    }\n",
              "\n",
              "    .colab-df-convert:hover {\n",
              "      background-color: #E2EBFA;\n",
              "      box-shadow: 0px 1px 2px rgba(60, 64, 67, 0.3), 0px 1px 3px 1px rgba(60, 64, 67, 0.15);\n",
              "      fill: #174EA6;\n",
              "    }\n",
              "\n",
              "    [theme=dark] .colab-df-convert {\n",
              "      background-color: #3B4455;\n",
              "      fill: #D2E3FC;\n",
              "    }\n",
              "\n",
              "    [theme=dark] .colab-df-convert:hover {\n",
              "      background-color: #434B5C;\n",
              "      box-shadow: 0px 1px 3px 1px rgba(0, 0, 0, 0.15);\n",
              "      filter: drop-shadow(0px 1px 2px rgba(0, 0, 0, 0.3));\n",
              "      fill: #FFFFFF;\n",
              "    }\n",
              "  </style>\n",
              "\n",
              "      <script>\n",
              "        const buttonEl =\n",
              "          document.querySelector('#df-cbcdc004-b271-441d-8372-eb87b71f3767 button.colab-df-convert');\n",
              "        buttonEl.style.display =\n",
              "          google.colab.kernel.accessAllowed ? 'block' : 'none';\n",
              "\n",
              "        async function convertToInteractive(key) {\n",
              "          const element = document.querySelector('#df-cbcdc004-b271-441d-8372-eb87b71f3767');\n",
              "          const dataTable =\n",
              "            await google.colab.kernel.invokeFunction('convertToInteractive',\n",
              "                                                     [key], {});\n",
              "          if (!dataTable) return;\n",
              "\n",
              "          const docLinkHtml = 'Like what you see? Visit the ' +\n",
              "            '<a target=\"_blank\" href=https://colab.research.google.com/notebooks/data_table.ipynb>data table notebook</a>'\n",
              "            + ' to learn more about interactive tables.';\n",
              "          element.innerHTML = '';\n",
              "          dataTable['output_type'] = 'display_data';\n",
              "          await google.colab.output.renderOutput(dataTable, element);\n",
              "          const docLink = document.createElement('div');\n",
              "          docLink.innerHTML = docLinkHtml;\n",
              "          element.appendChild(docLink);\n",
              "        }\n",
              "      </script>\n",
              "    </div>\n",
              "  </div>\n",
              "  "
            ]
          },
          "metadata": {},
          "execution_count": 46
        }
      ]
    },
    {
      "cell_type": "code",
      "source": [
        "from sklearn.preprocessing import MinMaxScaler"
      ],
      "metadata": {
        "id": "U5MiTELRQ525"
      },
      "execution_count": 47,
      "outputs": []
    },
    {
      "cell_type": "code",
      "source": [
        "scaler = MinMaxScaler()\n",
        "X_scaled = scaler.fit_transform(X)"
      ],
      "metadata": {
        "id": "ycY76kbHHN2m"
      },
      "execution_count": 48,
      "outputs": []
    },
    {
      "cell_type": "markdown",
      "source": [
        "#### Spliting Dataset"
      ],
      "metadata": {
        "id": "bckywOsvIcmT"
      }
    },
    {
      "cell_type": "code",
      "source": [
        "from sklearn.model_selection import train_test_split"
      ],
      "metadata": {
        "id": "eGpm2BglIftM"
      },
      "execution_count": 49,
      "outputs": []
    },
    {
      "cell_type": "code",
      "source": [
        "x_train, x_test, y_train, y_test = train_test_split(X_scaled, y, test_size=0.2, random_state=42)"
      ],
      "metadata": {
        "id": "FyFpmJ_EIm-O"
      },
      "execution_count": 50,
      "outputs": []
    },
    {
      "cell_type": "markdown",
      "source": [
        "#### Decision Tree"
      ],
      "metadata": {
        "id": "C6I5oWk7KF75"
      }
    },
    {
      "cell_type": "code",
      "source": [
        "from sklearn.tree import DecisionTreeClassifier\n",
        "from sklearn import metrics"
      ],
      "metadata": {
        "id": "_ztAllzpKJ5l"
      },
      "execution_count": 51,
      "outputs": []
    },
    {
      "cell_type": "code",
      "source": [
        "clf = DecisionTreeClassifier()\n",
        "clf = clf.fit(x_train,y_train)"
      ],
      "metadata": {
        "id": "qV__Gbx-KO4D"
      },
      "execution_count": 52,
      "outputs": []
    },
    {
      "cell_type": "code",
      "source": [
        "y_pred = clf.predict(x_test)"
      ],
      "metadata": {
        "id": "s4VtXB5BKRsB"
      },
      "execution_count": 53,
      "outputs": []
    },
    {
      "cell_type": "code",
      "source": [
        "print(\"Accuracy:\",metrics.accuracy_score(y_test, y_pred))"
      ],
      "metadata": {
        "colab": {
          "base_uri": "https://localhost:8080/"
        },
        "id": "kxLamMTBKSMn",
        "outputId": "05d824db-9e29-422c-cd79-8eddb1b5dfd6"
      },
      "execution_count": 54,
      "outputs": [
        {
          "output_type": "stream",
          "name": "stdout",
          "text": [
            "Accuracy: 0.7894736842105263\n"
          ]
        }
      ]
    },
    {
      "cell_type": "markdown",
      "source": [
        "#### Random Forest"
      ],
      "metadata": {
        "id": "U8a4jB6Elt1c"
      }
    },
    {
      "cell_type": "code",
      "source": [
        "from sklearn.ensemble import RandomForestClassifier\n",
        "from sklearn.metrics import accuracy_score"
      ],
      "metadata": {
        "id": "IhHH1jTSl-_u"
      },
      "execution_count": 55,
      "outputs": []
    },
    {
      "cell_type": "code",
      "source": [
        "# create the model\n",
        "rf = RandomForestClassifier(n_estimators=100, random_state=42)\n",
        "\n",
        "# train the model\n",
        "rf.fit(x_train, y_train)\n",
        "\n",
        "# make predictions on the test set\n",
        "y_pred = rf.predict(x_test)\n",
        "\n",
        "# calculate accuracy score\n",
        "accuracy = accuracy_score(y_test, y_pred)\n",
        "print(\"Accuracy:\", accuracy)"
      ],
      "metadata": {
        "colab": {
          "base_uri": "https://localhost:8080/"
        },
        "id": "7-oR6dNamAds",
        "outputId": "afd6070e-9e9c-49db-c76d-e17a1cd4c8cc"
      },
      "execution_count": 56,
      "outputs": [
        {
          "output_type": "stream",
          "name": "stdout",
          "text": [
            "Accuracy: 0.8070175438596491\n"
          ]
        }
      ]
    },
    {
      "cell_type": "markdown",
      "source": [
        "### Do cross validation and bootstrapping"
      ],
      "metadata": {
        "id": "SA_uS41CqIYK"
      }
    },
    {
      "cell_type": "code",
      "source": [
        "# Decision Tree\n",
        "# Now let's use 5-fold cross-validation to evaluate the model performance\n",
        "from sklearn.model_selection import cross_val_score\n",
        "scores = cross_val_score(clf, X_scaled, y, cv=5)\n",
        "print(\"%0.2f accuracy with a standard deviation of %0.2f\" % (scores.mean(), scores.std()))"
      ],
      "metadata": {
        "colab": {
          "base_uri": "https://localhost:8080/"
        },
        "id": "7yRJlHHMmg8a",
        "outputId": "7e50f958-77fb-4c33-eea8-55f7b955849b"
      },
      "execution_count": 57,
      "outputs": [
        {
          "output_type": "stream",
          "name": "stdout",
          "text": [
            "0.72 accuracy with a standard deviation of 0.03\n"
          ]
        }
      ]
    },
    {
      "cell_type": "code",
      "source": [
        "# Random forest\n",
        "# Now let's use 5-fold cross-validation to evaluate the model performance\n",
        "from sklearn.model_selection import cross_val_score\n",
        "scores = cross_val_score(rf, X_scaled, y, cv=5)\n",
        "print(\"%0.2f accuracy with a standard deviation of %0.2f\" % (scores.mean(), scores.std()))"
      ],
      "metadata": {
        "colab": {
          "base_uri": "https://localhost:8080/"
        },
        "id": "irnNhQDCPtpJ",
        "outputId": "a7d33574-6838-43df-9efd-900257667c90"
      },
      "execution_count": 58,
      "outputs": [
        {
          "output_type": "stream",
          "name": "stdout",
          "text": [
            "0.82 accuracy with a standard deviation of 0.05\n"
          ]
        }
      ]
    },
    {
      "cell_type": "code",
      "source": [
        "import numpy as np"
      ],
      "metadata": {
        "id": "aXDESWcsa589"
      },
      "execution_count": 59,
      "outputs": []
    },
    {
      "cell_type": "code",
      "source": [
        "X_b = df.drop('target', axis=1).values\n",
        "y_b = df[['target']]"
      ],
      "metadata": {
        "id": "3U9LuwWCUd8w"
      },
      "execution_count": 60,
      "outputs": []
    },
    {
      "cell_type": "code",
      "source": [
        "scaler = MinMaxScaler()\n",
        "X_b = scaler.fit_transform(X)"
      ],
      "metadata": {
        "id": "SRl1EeKiWz0c"
      },
      "execution_count": 61,
      "outputs": []
    },
    {
      "cell_type": "code",
      "source": [
        "clf_boot = DecisionTreeClassifier()\n",
        "n_bootstraps = 100\n",
        "accuracies = []\n",
        "for i in range(n_bootstraps):\n",
        "    # Sample the data with replacement\n",
        "    indices = np.random.choice(range(len(X_b)), size=len(y_b), replace=True)\n",
        "    X_boot =X_b[indices]\n",
        "    y_boot = y_b.iloc[indices]\n",
        "    # Train the model on the bootstrap sample\n",
        "    clf_boot.fit(X_boot,y_boot)    \n",
        "    # Evaluate the model on the entire dataset\n",
        "    accuracy = clf_boot.score(X_scaled, y)\n",
        "    accuracies.append(accuracy)\n",
        "\n",
        "# Calculate the mean and confidence interval of the accuracies\n",
        "mean_accuracy = np.mean(accuracies)\n",
        "std_accuracy = np.std(accuracies)\n",
        "lower_ci = mean_accuracy - 1.96 * std_accuracy\n",
        "upper_ci = mean_accuracy + 1.96 * std_accuracy\n",
        "\n",
        "# Print the results\n",
        "print(\"Mean accuracy: %.2f\" % mean_accuracy)\n",
        "print(\"95%% confidence interval: [%.2f, %.2f]\" % (lower_ci, upper_ci))"
      ],
      "metadata": {
        "id": "8C21PY8ea9Fg",
        "colab": {
          "base_uri": "https://localhost:8080/"
        },
        "outputId": "277282a4-00a2-4e5f-9829-642ed7649a6d"
      },
      "execution_count": 62,
      "outputs": [
        {
          "output_type": "stream",
          "name": "stdout",
          "text": [
            "Mean accuracy: 0.90\n",
            "95% confidence interval: [0.87, 0.94]\n"
          ]
        }
      ]
    },
    {
      "cell_type": "markdown",
      "source": [
        "### List the feature importance from the models you have created and derive insights relating to the feature importance."
      ],
      "metadata": {
        "id": "OUwpSCgrju6r"
      }
    },
    {
      "cell_type": "code",
      "source": [
        "# Create a horizontal bar plot of feature importances\n",
        "sort = clf.feature_importances_.argsort()\n",
        "plt.barh(X.columns[sort], clf.feature_importances_[sort])\n",
        "plt.xlabel(\"Feature Importance\")\n",
        "\n",
        "plt.show()"
      ],
      "metadata": {
        "colab": {
          "base_uri": "https://localhost:8080/",
          "height": 449
        },
        "id": "p1UzbbnjihqY",
        "outputId": "fd908dc6-7272-400a-d36b-2f072c2b7913"
      },
      "execution_count": 63,
      "outputs": [
        {
          "output_type": "display_data",
          "data": {
            "text/plain": [
              "<Figure size 640x480 with 1 Axes>"
            ],
            "image/png": "[encoded data removed]"
          },
          "metadata": {}
        }
      ]
    },
    {
      "cell_type": "markdown",
      "source": [
        "Berdasarkan feature importance didapat bahwa variabel \"cp\" memiliki feature importance tertinggi dengan nilai 0.35 diikuti dengan variabel ca dan oldpeak. Namun Ternyata variabel exang dengan restecg nilainya kurang dari 0.01. Dan Ternyata terdapat berbedaan peringkat antara feature importance dengan python manual dengan mmetodeSelectKBest"
      ],
      "metadata": {
        "id": "DbyFvdT1jyRC"
      }
    },
    {
      "cell_type": "markdown",
      "source": [
        "#### Testing"
      ],
      "metadata": {
        "id": "HW9g4flaYdQR"
      }
    },
    {
      "cell_type": "code",
      "source": [
        "X.head(1)"
      ],
      "metadata": {
        "colab": {
          "base_uri": "https://localhost:8080/",
          "height": 81
        },
        "id": "5pjuUMXrXzNT",
        "outputId": "081c681b-23a6-4c71-d7f2-f52ebf4a07a2"
      },
      "execution_count": 66,
      "outputs": [
        {
          "output_type": "execute_result",
          "data": {
            "text/plain": [
              "   age  sex  cp  trestbps  chol  fbs  restecg  thalach  exang  oldpeak  slope  \\\n",
              "0   52    1   0       125   212    0        1      168      0      1.0      2   \n",
              "\n",
              "   ca  thal  \n",
              "0   2     3  "
            ],
            "text/html": [
              "\n",
              "  <div id=\"df-98826e20-5ff5-4385-85f8-6a17383c1a8e\">\n",
              "    <div class=\"colab-df-container\">\n",
              "      <div>\n",
              "<style scoped>\n",
              "    .dataframe tbody tr th:only-of-type {\n",
              "        vertical-align: middle;\n",
              "    }\n",
              "\n",
              "    .dataframe tbody tr th {\n",
              "        vertical-align: top;\n",
              "    }\n",
              "\n",
              "    .dataframe thead th {\n",
              "        text-align: right;\n",
              "    }\n",
              "</style>\n",
              "<table border=\"1\" class=\"dataframe\">\n",
              "  <thead>\n",
              "    <tr style=\"text-align: right;\">\n",
              "      <th></th>\n",
              "      <th>age</th>\n",
              "      <th>sex</th>\n",
              "      <th>cp</th>\n",
              "      <th>trestbps</th>\n",
              "      <th>chol</th>\n",
              "      <th>fbs</th>\n",
              "      <th>restecg</th>\n",
              "      <th>thalach</th>\n",
              "      <th>exang</th>\n",
              "      <th>oldpeak</th>\n",
              "      <th>slope</th>\n",
              "      <th>ca</th>\n",
              "      <th>thal</th>\n",
              "    </tr>\n",
              "  </thead>\n",
              "  <tbody>\n",
              "    <tr>\n",
              "      <th>0</th>\n",
              "      <td>52</td>\n",
              "      <td>1</td>\n",
              "      <td>0</td>\n",
              "      <td>125</td>\n",
              "      <td>212</td>\n",
              "      <td>0</td>\n",
              "      <td>1</td>\n",
              "      <td>168</td>\n",
              "      <td>0</td>\n",
              "      <td>1.0</td>\n",
              "      <td>2</td>\n",
              "      <td>2</td>\n",
              "      <td>3</td>\n",
              "    </tr>\n",
              "  </tbody>\n",
              "</table>\n",
              "</div>\n",
              "      <button class=\"colab-df-convert\" onclick=\"convertToInteractive('df-98826e20-5ff5-4385-85f8-6a17383c1a8e')\"\n",
              "              title=\"Convert this dataframe to an interactive table.\"\n",
              "              style=\"display:none;\">\n",
              "        \n",
              "  <svg xmlns=\"http://www.w3.org/2000/svg\" height=\"24px\"viewBox=\"0 0 24 24\"\n",
              "       width=\"24px\">\n",
              "    <path d=\"M0 0h24v24H0V0z\" fill=\"none\"/>\n",
              "    <path d=\"M18.56 5.44l.94 2.06.94-2.06 2.06-.94-2.06-.94-.94-2.06-.94 2.06-2.06.94zm-11 1L8.5 8.5l.94-2.06 2.06-.94-2.06-.94L8.5 2.5l-.94 2.06-2.06.94zm10 10l.94 2.06.94-2.06 2.06-.94-2.06-.94-.94-2.06-.94 2.06-2.06.94z\"/><path d=\"M17.41 7.96l-1.37-1.37c-.4-.4-.92-.59-1.43-.59-.52 0-1.04.2-1.43.59L10.3 9.45l-7.72 7.72c-.78.78-.78 2.05 0 2.83L4 21.41c.39.39.9.59 1.41.59.51 0 1.02-.2 1.41-.59l7.78-7.78 2.81-2.81c.8-.78.8-2.07 0-2.86zM5.41 20L4 18.59l7.72-7.72 1.47 1.35L5.41 20z\"/>\n",
              "  </svg>\n",
              "      </button>\n",
              "      \n",
              "  <style>\n",
              "    .colab-df-container {\n",
              "      display:flex;\n",
              "      flex-wrap:wrap;\n",
              "      gap: 12px;\n",
              "    }\n",
              "\n",
              "    .colab-df-convert {\n",
              "      background-color: #E8F0FE;\n",
              "      border: none;\n",
              "      border-radius: 50%;\n",
              "      cursor: pointer;\n",
              "      display: none;\n",
              "      fill: #1967D2;\n",
              "      height: 32px;\n",
              "      padding: 0 0 0 0;\n",
              "      width: 32px;\n",
              "    }\n",
              "\n",
              "    .colab-df-convert:hover {\n",
              "      background-color: #E2EBFA;\n",
              "      box-shadow: 0px 1px 2px rgba(60, 64, 67, 0.3), 0px 1px 3px 1px rgba(60, 64, 67, 0.15);\n",
              "      fill: #174EA6;\n",
              "    }\n",
              "\n",
              "    [theme=dark] .colab-df-convert {\n",
              "      background-color: #3B4455;\n",
              "      fill: #D2E3FC;\n",
              "    }\n",
              "\n",
              "    [theme=dark] .colab-df-convert:hover {\n",
              "      background-color: #434B5C;\n",
              "      box-shadow: 0px 1px 3px 1px rgba(0, 0, 0, 0.15);\n",
              "      filter: drop-shadow(0px 1px 2px rgba(0, 0, 0, 0.3));\n",
              "      fill: #FFFFFF;\n",
              "    }\n",
              "  </style>\n",
              "\n",
              "      <script>\n",
              "        const buttonEl =\n",
              "          document.querySelector('#df-98826e20-5ff5-4385-85f8-6a17383c1a8e button.colab-df-convert');\n",
              "        buttonEl.style.display =\n",
              "          google.colab.kernel.accessAllowed ? 'block' : 'none';\n",
              "\n",
              "        async function convertToInteractive(key) {\n",
              "          const element = document.querySelector('#df-98826e20-5ff5-4385-85f8-6a17383c1a8e');\n",
              "          const dataTable =\n",
              "            await google.colab.kernel.invokeFunction('convertToInteractive',\n",
              "                                                     [key], {});\n",
              "          if (!dataTable) return;\n",
              "\n",
              "          const docLinkHtml = 'Like what you see? Visit the ' +\n",
              "            '<a target=\"_blank\" href=https://colab.research.google.com/notebooks/data_table.ipynb>data table notebook</a>'\n",
              "            + ' to learn more about interactive tables.';\n",
              "          element.innerHTML = '';\n",
              "          dataTable['output_type'] = 'display_data';\n",
              "          await google.colab.output.renderOutput(dataTable, element);\n",
              "          const docLink = document.createElement('div');\n",
              "          docLink.innerHTML = docLinkHtml;\n",
              "          element.appendChild(docLink);\n",
              "        }\n",
              "      </script>\n",
              "    </div>\n",
              "  </div>\n",
              "  "
            ]
          },
          "metadata": {},
          "execution_count": 66
        }
      ]
    },
    {
      "cell_type": "code",
      "source": [
        "# Memasukkan data seseorang yang ingin diuji\n",
        "new_data = [[52, 1, 0, 125, 212, 0, 1, 158, 0, 1, 2, 2, 2]]\n",
        "\n",
        "# Melakukan scaling pada data baru\n",
        "new_data_scaled = scaler.transform(new_data)\n",
        "\n",
        "# Melakukan prediksi pada data baru menggunakan model Random Forest\n",
        "prediction = rf.predict(new_data_scaled)\n",
        "\n",
        "# Melihat hasil prediksi\n",
        "if prediction == 1:\n",
        "    print(\"Orang tersebut berpotensi terkena serangan jantung.\")\n",
        "else:\n",
        "    print(\"Orang tersebut tidak berpotensi terkena serangan jantung.\")"
      ],
      "metadata": {
        "colab": {
          "base_uri": "https://localhost:8080/"
        },
        "id": "6YrnvcGnYgve",
        "outputId": "c0db1ae6-9a25-42c8-c148-2e97ee5b5a93"
      },
      "execution_count": 83,
      "outputs": [
        {
          "output_type": "stream",
          "name": "stdout",
          "text": [
            "Orang tersebut tidak berpotensi terkena serangan jantung.\n"
          ]
        },
        {
          "output_type": "stream",
          "name": "stderr",
          "text": [
            "/usr/local/lib/python3.9/dist-packages/sklearn/base.py:439: UserWarning: X does not have valid feature names, but MinMaxScaler was fitted with feature names\n",
            "  warnings.warn(\n"
          ]
        }
      ]
    }
  ],
  "metadata": {
    "colab": {
      "provenance": []
    },
    "kernelspec": {
      "display_name": "Python 3",
      "name": "python3"
    },
    "language_info": {
      "name": "python"
    }
  },
  "nbformat": 4,
  "nbformat_minor": 0
}